{
 "cells": [
  {
   "cell_type": "markdown",
   "metadata": {},
   "source": [
    "# Opportunity Project Use Case Assignment #1: Data Wrangling"
   ]
  },
  {
   "cell_type": "markdown",
   "metadata": {},
   "source": [
    "# Data Wrangling Challenge\n",
    "\n",
    "---------------------\n",
    "\n",
    "## Problem Statement\n",
    "\n",
    "U.S. Department of Education\n",
    "\n",
    "Policy Priority: The Department of Education is focused on ensuring that parents, students, and policymakers are able to use its publicly available data to take meaningful action to improve outcomes. \n",
    "\n",
    "1. Supporting Decision-Making for Student Sub-populations and their Families\n",
    "Problem: Certain mobile or disconnected student populations entering or reentering the community could greatly benefit from data and resources to support their wellbeing and success. Such students and families often lack information that is necessary to distinguish between their school options, access services, and identify affordable housing near high-quality school and in safe neighborhoods that have access to transit and employment. \n",
    "\n",
    "## Use Case\n",
    "\n",
    "Maria is a 25-year-old US Army veteran, newly returned to the civilian workforce. She has recently completed a six-year commitment with the Army. During her time in the Army, she worked in supply management and logistics. She has decided to pursue a degree in Management Systems and Information Technology. \n",
    "\n",
    "Maria has asked you to use your skill with data to help her search for the best school for her. She is willing to relocate anywhere in the continental United States, but she has a few criteria that her ideal schools must satisfy: 1) safety (low crime), 2) urban -- Maria wants to live the big city life, and 3) start-ups -- the school should be in a metropolitan area that ranks highly in entrepreneurialism (she plans to find an internship at a startup while she studies). \n",
    "\n",
    "Maria would like you to help her narrow down her search to a list of schools that she can investigate more closely before making her decision.\n",
    "\n",
    "## Your Task \n",
    "\n",
    "1. Produce a dataset of schools which satisfy all of Maria's criteria\n",
    "2. Rank them from best to worst according to the same criteria.\n",
    "\n",
    "Maria's schools must:\n",
    "\n",
    "1. be in an urban/metropolitan area.\n",
    "2. be in a city that ranks 75th percentile or higher on Kauffman's start-up rankings.\n",
    "3. be below 50th percentile in overall crime.\n",
    "4. offer a degree in Information Technology/Science.\n",
    "\n",
    "All the data you need is provided with the exception of the entrepreneurial data, which can be accessed at [http://www.kauffman.org/microsites/kauffman-index/about/archive/kauffman-index-of-entrepreneurial-activity-data-files]() (Metro Area Components Data 2015)\n",
    "\n",
    "Tips:\n",
    "1. Read the data dictionaries or codebooks to figure out what the variables mean and which ones you will need to use.\n",
    "2. Eliminate unneeded columns.\n",
    "3. Look for suitable columns to join the tables on.\n",
    "4. Perform any cleaning and standardization needed to facilitate the joins.\n",
    "5. Engineer a summary variable for school crime so that we can compare schools by levels of crime overall.\n",
    "6. Eliminate from the data all the data points that fail to satisfy Maria's criteria.\n",
    "7. Engineer a method for ranking the schools in consideration of all of Maria's criteria taken together.\n",
    "\n",
    "## Extra Credit\n",
    "\n",
    "Maria doesn't like the cold. Find and integrate temperature data. Eliminate any schools located in cities/areas below the 25th percentile in average temperature.\n",
    "\n",
    "--------------------------------\n",
    "\n",
    "- *This was created as a training exercise in data wrangling/preparation.*\n",
    "- *Prerequisites include scripting skills with Python Pandas or R (or another data manipulation tool) to perform data cleaning, transformations, joins, etc.*\n",
    "- *No additional subject matter or data analysis knowledge is required.*\n",
    "- *The task is a specific and hypothetical use case based on a problem statement proposed by the Department of Education in Opportunity Project documentation.*\n",
    "- *The participant who completes the exercise will demonstrate the ability to clean, join, and organize data from disparate tables and formats in the process of solving a realistic problem.*"
   ]
  },
  {
   "cell_type": "markdown",
   "metadata": {},
   "source": [
    "------------------------------------------------"
   ]
  },
  {
   "cell_type": "markdown",
   "metadata": {},
   "source": [
    "------------------------------------------------------------------------------------------"
   ]
  },
  {
   "cell_type": "markdown",
   "metadata": {},
   "source": [
    "This solution uses the Python [Pandas](http://pandas.pydata.org) API.\n",
    "\n",
    "Check out this nice Pandas data wrangling [cheatsheet](https://github.com/pandas-dev/pandas/blob/master/doc/cheatsheet/Pandas_Cheat_Sheet.pdf)\n",
    "\n",
    "First, download the data from https://data.world/nrippner/opportunity-project-use-case and put the files in a the directory you plan to use for this assignment.\n",
    "\n",
    "Second, tell Python to set this as your current directory:"
   ]
  },
  {
   "cell_type": "code",
   "execution_count": null,
   "metadata": {
    "collapsed": true
   },
   "outputs": [],
   "source": [
    "# delete hash sign below and enter path inside the quotes\n",
    "# %cd \"../\""
   ]
  },
  {
   "cell_type": "code",
   "execution_count": 25,
   "metadata": {
    "collapsed": true
   },
   "outputs": [],
   "source": [
    "import pandas as pd\n",
    "import numpy as np"
   ]
  },
  {
   "cell_type": "code",
   "execution_count": 26,
   "metadata": {
    "collapsed": true
   },
   "outputs": [],
   "source": [
    "# set a variable named \"path\" to your current directory\n",
    "path = %pwd"
   ]
  },
  {
   "cell_type": "markdown",
   "metadata": {},
   "source": [
    "# Step 1\n",
    "\n",
    "## obtain, clean, prepare, and merge data"
   ]
  },
  {
   "cell_type": "markdown",
   "metadata": {},
   "source": [
    "### College Scorecard Dataset\n",
    "### Campus Safety Dataset"
   ]
  },
  {
   "cell_type": "code",
   "execution_count": 27,
   "metadata": {},
   "outputs": [
    {
     "name": "stdout",
     "output_type": "stream",
     "text": [
      "(7804, 1729)\n",
      "(11593, 44)\n"
     ]
    }
   ],
   "source": [
    "with open('%s\\CollegeScorecard.csv' % path) as f:\n",
    "    csdf = pd.read_csv(f)\n",
    "\n",
    "with open('%s\\\\reportedcrime121314.csv' % path) as f:\n",
    "    safedf = pd.read_csv(f)\n",
    "\n",
    "print csdf.shape\n",
    "print safedf.shape"
   ]
  },
  {
   "cell_type": "code",
   "execution_count": 28,
   "metadata": {},
   "outputs": [
    {
     "name": "stdout",
     "output_type": "stream",
     "text": [
      "safedf: \n",
      "Index([u'SA_UNITID_P', u'SA_INSTNM', u'SA_BRANCH', u'SA_Address', u'SA_City',\n",
      "       u'SA_State', u'SA_ZIP', u'SA_sector_cd', u'SA_Sector_desc',\n",
      "       u'SA_men_total', u'SA_women_total', u'SA_Total', u'SA_MURD12',\n",
      "       u'SA_NEG_M12', u'SA_FORCIB12', u'SA_NONFOR12', u'SA_ROBBE12',\n",
      "       u'SA_AGG_A12', u'SA_BURGLA12', u'SA_VEHIC12'],\n",
      "      dtype='object')\n",
      "---------------------------------------------------------------------------------\n",
      "csdf: \n",
      "Index([u'CS_UNITID', u'CS_OPEID', u'CS_opeid6', u'CS_INSTNM', u'CS_CITY',\n",
      "       u'CS_STABBR', u'CS_ZIP', u'CS_AccredAgency', u'CS_INSTURL',\n",
      "       u'CS_NPCURL', u'CS_sch_deg', u'CS_HCM2', u'CS_main', u'CS_NUMBRANCH',\n",
      "       u'CS_PREDDEG', u'CS_HIGHDEG', u'CS_CONTROL', u'CS_st_fips',\n",
      "       u'CS_region', u'CS_LOCALE'],\n",
      "      dtype='object')\n"
     ]
    }
   ],
   "source": [
    "# rename columns to add prefixes to indicate source table\n",
    "csdf_cols = {}\n",
    "safedf_cols = {}\n",
    "\n",
    "def new_names(data, dict, prefix):\n",
    "    for i, j in enumerate(data.columns):\n",
    "        dict[j] = prefix + j\n",
    "\n",
    "new_names(csdf, csdf_cols, 'CS_')\n",
    "new_names(safedf, safedf_cols, 'SA_')\n",
    "\n",
    "csdf = csdf.rename(columns=csdf_cols)\n",
    "safedf = safedf.rename(columns=safedf_cols)\n",
    "\n",
    "print 'safedf: \\n', safedf.columns[:20]\n",
    "print '---------------------------------------------------------------------------------'\n",
    "print 'csdf: \\n', csdf.columns[:20]"
   ]
  },
  {
   "cell_type": "code",
   "execution_count": 29,
   "metadata": {},
   "outputs": [
    {
     "name": "stdout",
     "output_type": "stream",
     "text": [
      "4532\n",
      "0\n"
     ]
    }
   ],
   "source": [
    "# split the SA_UNITID variable to save the last 3 digits, just in case we need them\n",
    "safedf['SA_CODE_PLUS'] = safedf.SA_UNITID_P.apply(lambda x: str(x)[-3:])\n",
    "safedf['UNITID'] = safedf.SA_UNITID_P.apply(lambda x: str(x)[:6])\n",
    "\n",
    "# check for duplicated\n",
    "print sum(safedf.UNITID.duplicated())\n",
    "print sum(csdf.CS_UNITID.duplicated())"
   ]
  },
  {
   "cell_type": "code",
   "execution_count": 30,
   "metadata": {},
   "outputs": [
    {
     "data": {
      "text/html": [
       "<div>\n",
       "<table border=\"1\" class=\"dataframe\">\n",
       "  <thead>\n",
       "    <tr style=\"text-align: right;\">\n",
       "      <th></th>\n",
       "      <th>UNITID</th>\n",
       "      <th>SA_CODE_PLUS</th>\n",
       "      <th>SA_UNITID_P</th>\n",
       "      <th>SA_INSTNM</th>\n",
       "      <th>SA_BRANCH</th>\n",
       "      <th>SA_Address</th>\n",
       "      <th>SA_City</th>\n",
       "      <th>SA_State</th>\n",
       "      <th>SA_ZIP</th>\n",
       "      <th>SA_sector_cd</th>\n",
       "      <th>SA_Sector_desc</th>\n",
       "      <th>SA_men_total</th>\n",
       "      <th>SA_women_total</th>\n",
       "      <th>SA_Total</th>\n",
       "      <th>SA_MURD12</th>\n",
       "    </tr>\n",
       "  </thead>\n",
       "  <tbody>\n",
       "    <tr>\n",
       "      <th>10</th>\n",
       "      <td>100760</td>\n",
       "      <td>003</td>\n",
       "      <td>100760003</td>\n",
       "      <td>Central Alabama Community College</td>\n",
       "      <td>Talladega Campus</td>\n",
       "      <td>1009 South Street East</td>\n",
       "      <td>Talladega</td>\n",
       "      <td>AL</td>\n",
       "      <td>35160</td>\n",
       "      <td>4</td>\n",
       "      <td>Public, 2-year</td>\n",
       "      <td>701.0</td>\n",
       "      <td>1025.0</td>\n",
       "      <td>1726.0</td>\n",
       "      <td>NaN</td>\n",
       "    </tr>\n",
       "    <tr>\n",
       "      <th>11</th>\n",
       "      <td>100812</td>\n",
       "      <td>001</td>\n",
       "      <td>100812001</td>\n",
       "      <td>Athens State University</td>\n",
       "      <td>Athens State University Main Campus</td>\n",
       "      <td>300 N BEATY ST</td>\n",
       "      <td>ATHENS</td>\n",
       "      <td>AL</td>\n",
       "      <td>35611</td>\n",
       "      <td>1</td>\n",
       "      <td>Public, 4-year or above</td>\n",
       "      <td>1082.0</td>\n",
       "      <td>2046.0</td>\n",
       "      <td>3128.0</td>\n",
       "      <td>NaN</td>\n",
       "    </tr>\n",
       "    <tr>\n",
       "      <th>12</th>\n",
       "      <td>100830</td>\n",
       "      <td>001</td>\n",
       "      <td>100830001</td>\n",
       "      <td>Auburn University at Montgomery</td>\n",
       "      <td>Auburn University Montgomery</td>\n",
       "      <td>7400 EAST DRIVE</td>\n",
       "      <td>MONTGOMERY</td>\n",
       "      <td>AL</td>\n",
       "      <td>361173596</td>\n",
       "      <td>1</td>\n",
       "      <td>Public, 4-year or above</td>\n",
       "      <td>1824.0</td>\n",
       "      <td>3233.0</td>\n",
       "      <td>5057.0</td>\n",
       "      <td>NaN</td>\n",
       "    </tr>\n",
       "    <tr>\n",
       "      <th>13</th>\n",
       "      <td>100858</td>\n",
       "      <td>001</td>\n",
       "      <td>100858001</td>\n",
       "      <td>Auburn University</td>\n",
       "      <td>Main Campus</td>\n",
       "      <td>107 Samford Hall</td>\n",
       "      <td>Auburn</td>\n",
       "      <td>AL</td>\n",
       "      <td>36849</td>\n",
       "      <td>1</td>\n",
       "      <td>Public, 4-year or above</td>\n",
       "      <td>13114.0</td>\n",
       "      <td>12798.0</td>\n",
       "      <td>25912.0</td>\n",
       "      <td>NaN</td>\n",
       "    </tr>\n",
       "    <tr>\n",
       "      <th>14</th>\n",
       "      <td>100858</td>\n",
       "      <td>002</td>\n",
       "      <td>100858002</td>\n",
       "      <td>Auburn University</td>\n",
       "      <td>Joseph S Bruno Auburn Abroad Italy</td>\n",
       "      <td>Via del Parco 149</td>\n",
       "      <td>Ariccia</td>\n",
       "      <td>NaN</td>\n",
       "      <td>00040</td>\n",
       "      <td>1</td>\n",
       "      <td>Public, 4-year or above</td>\n",
       "      <td>13114.0</td>\n",
       "      <td>12798.0</td>\n",
       "      <td>25912.0</td>\n",
       "      <td>NaN</td>\n",
       "    </tr>\n",
       "    <tr>\n",
       "      <th>15</th>\n",
       "      <td>100858</td>\n",
       "      <td>003</td>\n",
       "      <td>100858003</td>\n",
       "      <td>Auburn University</td>\n",
       "      <td>Solon Dixon Forestry Education Center</td>\n",
       "      <td>12130 Dixon Center Road</td>\n",
       "      <td>Andalusia</td>\n",
       "      <td>AL</td>\n",
       "      <td>36420</td>\n",
       "      <td>1</td>\n",
       "      <td>Public, 4-year or above</td>\n",
       "      <td>13114.0</td>\n",
       "      <td>12798.0</td>\n",
       "      <td>25912.0</td>\n",
       "      <td>NaN</td>\n",
       "    </tr>\n",
       "    <tr>\n",
       "      <th>16</th>\n",
       "      <td>100858</td>\n",
       "      <td>004</td>\n",
       "      <td>100858004</td>\n",
       "      <td>Auburn University</td>\n",
       "      <td>Rural Studio</td>\n",
       "      <td>8448  AL Hwy 61</td>\n",
       "      <td>Newbern</td>\n",
       "      <td>AL</td>\n",
       "      <td>36765</td>\n",
       "      <td>1</td>\n",
       "      <td>Public, 4-year or above</td>\n",
       "      <td>13114.0</td>\n",
       "      <td>12798.0</td>\n",
       "      <td>25912.0</td>\n",
       "      <td>NaN</td>\n",
       "    </tr>\n",
       "    <tr>\n",
       "      <th>17</th>\n",
       "      <td>100858</td>\n",
       "      <td>005</td>\n",
       "      <td>100858005</td>\n",
       "      <td>Auburn University</td>\n",
       "      <td>Harris Early Learning Center</td>\n",
       "      <td>1413 7th Avenue North</td>\n",
       "      <td>Birmingham</td>\n",
       "      <td>AL</td>\n",
       "      <td>35206</td>\n",
       "      <td>1</td>\n",
       "      <td>Public, 4-year or above</td>\n",
       "      <td>13114.0</td>\n",
       "      <td>12798.0</td>\n",
       "      <td>25912.0</td>\n",
       "      <td>NaN</td>\n",
       "    </tr>\n",
       "    <tr>\n",
       "      <th>18</th>\n",
       "      <td>100858</td>\n",
       "      <td>006</td>\n",
       "      <td>100858006</td>\n",
       "      <td>Auburn University</td>\n",
       "      <td>Auburn University Regional Airport</td>\n",
       "      <td>2154 Mike Hubbard Blvd</td>\n",
       "      <td>Auburn</td>\n",
       "      <td>AL</td>\n",
       "      <td>36830</td>\n",
       "      <td>1</td>\n",
       "      <td>Public, 4-year or above</td>\n",
       "      <td>13114.0</td>\n",
       "      <td>12798.0</td>\n",
       "      <td>25912.0</td>\n",
       "      <td>NaN</td>\n",
       "    </tr>\n",
       "    <tr>\n",
       "      <th>19</th>\n",
       "      <td>100858</td>\n",
       "      <td>007</td>\n",
       "      <td>100858007</td>\n",
       "      <td>Auburn University</td>\n",
       "      <td>E W Shell Fisheries Center North</td>\n",
       "      <td>2101 North College Street</td>\n",
       "      <td>Auburn</td>\n",
       "      <td>AL</td>\n",
       "      <td>36830</td>\n",
       "      <td>1</td>\n",
       "      <td>Public, 4-year or above</td>\n",
       "      <td>13114.0</td>\n",
       "      <td>12798.0</td>\n",
       "      <td>25912.0</td>\n",
       "      <td>NaN</td>\n",
       "    </tr>\n",
       "  </tbody>\n",
       "</table>\n",
       "</div>"
      ],
      "text/plain": [
       "    UNITID SA_CODE_PLUS  SA_UNITID_P                          SA_INSTNM  \\\n",
       "10  100760          003    100760003  Central Alabama Community College   \n",
       "11  100812          001    100812001            Athens State University   \n",
       "12  100830          001    100830001    Auburn University at Montgomery   \n",
       "13  100858          001    100858001                  Auburn University   \n",
       "14  100858          002    100858002                  Auburn University   \n",
       "15  100858          003    100858003                  Auburn University   \n",
       "16  100858          004    100858004                  Auburn University   \n",
       "17  100858          005    100858005                  Auburn University   \n",
       "18  100858          006    100858006                  Auburn University   \n",
       "19  100858          007    100858007                  Auburn University   \n",
       "\n",
       "                                SA_BRANCH                 SA_Address  \\\n",
       "10                       Talladega Campus     1009 South Street East   \n",
       "11    Athens State University Main Campus             300 N BEATY ST   \n",
       "12           Auburn University Montgomery            7400 EAST DRIVE   \n",
       "13                            Main Campus           107 Samford Hall   \n",
       "14     Joseph S Bruno Auburn Abroad Italy          Via del Parco 149   \n",
       "15  Solon Dixon Forestry Education Center    12130 Dixon Center Road   \n",
       "16                           Rural Studio            8448  AL Hwy 61   \n",
       "17           Harris Early Learning Center      1413 7th Avenue North   \n",
       "18     Auburn University Regional Airport     2154 Mike Hubbard Blvd   \n",
       "19       E W Shell Fisheries Center North  2101 North College Street   \n",
       "\n",
       "       SA_City SA_State     SA_ZIP  SA_sector_cd           SA_Sector_desc  \\\n",
       "10   Talladega       AL      35160             4           Public, 2-year   \n",
       "11      ATHENS       AL      35611             1  Public, 4-year or above   \n",
       "12  MONTGOMERY       AL  361173596             1  Public, 4-year or above   \n",
       "13      Auburn       AL      36849             1  Public, 4-year or above   \n",
       "14     Ariccia      NaN      00040             1  Public, 4-year or above   \n",
       "15   Andalusia       AL      36420             1  Public, 4-year or above   \n",
       "16     Newbern       AL      36765             1  Public, 4-year or above   \n",
       "17  Birmingham       AL      35206             1  Public, 4-year or above   \n",
       "18      Auburn       AL      36830             1  Public, 4-year or above   \n",
       "19      Auburn       AL      36830             1  Public, 4-year or above   \n",
       "\n",
       "    SA_men_total  SA_women_total  SA_Total  SA_MURD12  \n",
       "10         701.0          1025.0    1726.0        NaN  \n",
       "11        1082.0          2046.0    3128.0        NaN  \n",
       "12        1824.0          3233.0    5057.0        NaN  \n",
       "13       13114.0         12798.0   25912.0        NaN  \n",
       "14       13114.0         12798.0   25912.0        NaN  \n",
       "15       13114.0         12798.0   25912.0        NaN  \n",
       "16       13114.0         12798.0   25912.0        NaN  \n",
       "17       13114.0         12798.0   25912.0        NaN  \n",
       "18       13114.0         12798.0   25912.0        NaN  \n",
       "19       13114.0         12798.0   25912.0        NaN  "
      ]
     },
     "execution_count": 30,
     "metadata": {},
     "output_type": "execute_result"
    }
   ],
   "source": [
    "# move new features to left for easier viewing\n",
    "a = safedf['SA_CODE_PLUS']\n",
    "b = safedf['UNITID']\n",
    "safedf.drop(['SA_CODE_PLUS', 'UNITID'], axis=1, inplace=True)\n",
    "safedf.insert(0, 'UNITID', b)\n",
    "safedf.insert(1, 'SA_CODE_PLUS', a)\n",
    "\n",
    "#take a closer look at duplicates in safedf\n",
    "safedf.iloc[10:20,:15]   \n",
    "#look like we can drop duplicates as the data seems to be the same across duplicates\n",
    "# In other words, let's consolidate, for example, all the variations of Auburn University\n",
    "# Into a single data point for Auburn University. We can do this by looking at the last 3 digits\n",
    "# of SA_UNITID_P"
   ]
  },
  {
   "cell_type": "code",
   "execution_count": 31,
   "metadata": {
    "scrolled": true
   },
   "outputs": [
    {
     "name": "stdout",
     "output_type": "stream",
     "text": [
      "length of safedf:  11593\n",
      "new length of safedf:  7032\n",
      "length of csdf:  7804\n",
      "# duplicates in safedf:  0\n",
      "# duplicates in csdf:  0\n"
     ]
    }
   ],
   "source": [
    "print 'length of safedf: ',len(safedf)\n",
    "# retain only UNITID ending in '001'\n",
    "safedf['SA_UNITID_P'] = safedf.SA_UNITID_P.apply(lambda x: str(x)).astype(np.object_)\n",
    "safedf = safedf[safedf.SA_UNITID_P.str.endswith('001')]\n",
    "print 'new length of safedf: ',len(safedf)\n",
    "print 'length of csdf: ', len(csdf)\n",
    "print '# duplicates in safedf: ', sum(safedf.UNITID.duplicated())\n",
    "print '# duplicates in csdf: ', sum(csdf.CS_UNITID.duplicated())"
   ]
  },
  {
   "cell_type": "markdown",
   "metadata": {},
   "source": [
    "#### Standardizing Variables\n",
    "Now, in order to merge the College safety (safedf) and College Scorecard (csdf) dataframes, we have to: \n",
    "1. pick a column to merge on (city)\n",
    "2. make sure that that the city columns match (eg, 'atlanta' in safedf must be the exactly same spelling and format as 'atlanta' in csdf).\n",
    "\n",
    "*note* this can be time consuming and usually can't be completely automated. But, we demonstrate some Python techniques to make the process manageable."
   ]
  },
  {
   "cell_type": "code",
   "execution_count": 32,
   "metadata": {},
   "outputs": [
    {
     "name": "stdout",
     "output_type": "stream",
     "text": [
      "# of matches:  6900\n",
      "# of non-matches 132\n",
      "** elements of safedf that don't match with csdf: \n",
      "[(320, False), (384, False), (463, False), (768, False), (999, False), (1169, False), (1171, False), (1172, False), (1173, False), (1341, False), (2086, False), (2172, False), (2421, False), (2724, False), (4487, False), (4503, False), (4679, False), (4764, False), (4825, False), (4989, False), (5208, False), (5262, False), (5634, False), (5823, False), (6309, False), (6392, False), (6582, False), (6643, False), (6746, False), (6766, False), (6775, False), (6798, False), (6868, False), (6925, False), (6928, False), (6931, False), (6936, False), (6937, False), (6938, False), (6939, False), (6940, False), (6941, False), (6942, False), (6943, False), (6944, False), (6945, False), (6946, False), (6947, False), (6948, False), (6949, False), (6950, False), (6951, False), (6952, False), (6953, False), (6954, False), (6955, False), (6956, False), (6957, False), (6958, False), (6959, False), (6960, False), (6961, False), (6962, False), (6963, False), (6964, False), (6965, False), (6966, False), (6967, False), (6968, False), (6969, False), (6970, False), (6971, False), (6972, False), (6973, False), (6974, False), (6975, False), (6976, False), (6977, False), (6978, False), (6979, False), (6980, False), (6981, False), (6982, False), (6983, False), (6984, False), (6985, False), (6986, False), (6987, False), (6988, False), (6989, False), (6990, False), (6991, False), (6992, False), (6993, False), (6994, False), (6995, False), (6996, False), (6997, False), (6998, False), (6999, False), (7000, False), (7001, False), (7002, False), (7003, False), (7004, False), (7005, False), (7006, False), (7007, False), (7008, False), (7009, False), (7010, False), (7011, False), (7012, False), (7013, False), (7014, False), (7015, False), (7016, False), (7017, False), (7018, False), (7019, False), (7020, False), (7021, False), (7022, False), (7023, False), (7024, False), (7025, False), (7026, False), (7027, False), (7028, False), (7029, False), (7030, False), (7031, False)]\n"
     ]
    }
   ],
   "source": [
    "# Let's see how many UNITIDs already match\n",
    "csdf['UNITID'] = csdf.CS_UNITID.apply(lambda x: str(x)).astype(np.object_)\n",
    "nope = [(i, j) for (i, j) in enumerate(safedf.UNITID.isin(csdf.UNITID)) if not j]\n",
    "print '# of matches: ',len(safedf) - len(nope)\n",
    "print '# of non-matches', len(nope)\n",
    "print '** elements of safedf that don\\'t match with csdf: \\n', nope"
   ]
  },
  {
   "cell_type": "markdown",
   "metadata": {},
   "source": [
    "*note*: we can drop these 132 non-matching UNITIDs because they're valid non-matches rather than spelling or formatting inconsistencies. In other words, 132 schools in the campus safety data are not included in the College Scorecard data"
   ]
  },
  {
   "cell_type": "code",
   "execution_count": 33,
   "metadata": {},
   "outputs": [
    {
     "name": "stdout",
     "output_type": "stream",
     "text": [
      "safedf shape:  (7032, 46)\n",
      "csdf shape:  (7804, 1730)\n",
      "mdf shape:  (7804, 1775)\n"
     ]
    }
   ],
   "source": [
    "# let's join the DataFrames on UNITID\n",
    "print 'safedf shape: ', safedf.shape\n",
    "print 'csdf shape: ', csdf.shape\n",
    "mdf = pd.merge(safedf, csdf, how='right', on='UNITID')\n",
    "print 'mdf shape: ', mdf.shape"
   ]
  },
  {
   "cell_type": "code",
   "execution_count": 34,
   "metadata": {},
   "outputs": [],
   "source": [
    "# save to csv\n",
    "#mdf.to_csv('mdf.csv', index=False)"
   ]
  },
  {
   "cell_type": "markdown",
   "metadata": {},
   "source": [
    "## Kauffman Start up index data"
   ]
  },
  {
   "cell_type": "code",
   "execution_count": 35,
   "metadata": {
    "collapsed": true
   },
   "outputs": [],
   "source": [
    "# Let's obtain the start up index rankings \n",
    "# from http://www.kauffman.org/microsites/kauffman-index/about/archive/kauffman-index-of-entrepreneurial-activity-data-files\n",
    "# metrocomponentsksia2015.xls --> metro_2015_kauffman.csv\n",
    "with open('metro_2015_kauffman.csv') as f:\n",
    "    sudf = pd.read_csv(f)\n",
    "\n",
    "# Now, let's figure out how to merge the Kauffman data with our college data\n",
    "# first, let's move the 'city variables' to the 'left' for easy viewing\n",
    "a = mdf.pop('SA_City')\n",
    "b = mdf.pop('CS_CITY')\n",
    "mdf.insert(0, 'SA_City', a)\n",
    "mdf.insert(1, 'CS_City', b)"
   ]
  },
  {
   "cell_type": "code",
   "execution_count": 36,
   "metadata": {},
   "outputs": [
    {
     "data": {
      "text/html": [
       "<div>\n",
       "<table border=\"1\" class=\"dataframe\">\n",
       "  <thead>\n",
       "    <tr style=\"text-align: right;\">\n",
       "      <th></th>\n",
       "      <th>KAU_Metro Area Code</th>\n",
       "      <th>KAU_Metro Area Name</th>\n",
       "      <th>KAU_Metro Area Main City</th>\n",
       "      <th>KAU_Metro Area States</th>\n",
       "      <th>KAU_Rank 2015</th>\n",
       "      <th>KAU_Rank 2014</th>\n",
       "      <th>KAU_Z-Score 2015</th>\n",
       "      <th>KAU_Z-Score 2014</th>\n",
       "    </tr>\n",
       "  </thead>\n",
       "  <tbody>\n",
       "    <tr>\n",
       "      <th>0</th>\n",
       "      <td>12060</td>\n",
       "      <td>Atlanta-Sandy Springs-Marietta</td>\n",
       "      <td>Atlanta</td>\n",
       "      <td>Georgia</td>\n",
       "      <td>13</td>\n",
       "      <td>18</td>\n",
       "      <td>-0.149070</td>\n",
       "      <td>-0.856135</td>\n",
       "    </tr>\n",
       "    <tr>\n",
       "      <th>1</th>\n",
       "      <td>12420</td>\n",
       "      <td>Austin-Round Rock-San Marcos</td>\n",
       "      <td>Austin</td>\n",
       "      <td>Texas</td>\n",
       "      <td>1</td>\n",
       "      <td>2</td>\n",
       "      <td>4.288039</td>\n",
       "      <td>4.347403</td>\n",
       "    </tr>\n",
       "    <tr>\n",
       "      <th>2</th>\n",
       "      <td>12580</td>\n",
       "      <td>Baltimore-Towson</td>\n",
       "      <td>Baltimore</td>\n",
       "      <td>Maryland</td>\n",
       "      <td>17</td>\n",
       "      <td>19</td>\n",
       "      <td>-0.800236</td>\n",
       "      <td>-0.906375</td>\n",
       "    </tr>\n",
       "    <tr>\n",
       "      <th>3</th>\n",
       "      <td>14460</td>\n",
       "      <td>Boston-Cambridge-Quincy</td>\n",
       "      <td>Boston</td>\n",
       "      <td>Massachusetts-New Hampshire</td>\n",
       "      <td>22</td>\n",
       "      <td>31</td>\n",
       "      <td>-1.168361</td>\n",
       "      <td>-2.270829</td>\n",
       "    </tr>\n",
       "    <tr>\n",
       "      <th>4</th>\n",
       "      <td>16740</td>\n",
       "      <td>Charlotte-Gastonia-Rock Hill</td>\n",
       "      <td>Charlotte</td>\n",
       "      <td>North Carolina-South Carolina</td>\n",
       "      <td>25</td>\n",
       "      <td>28</td>\n",
       "      <td>-1.631065</td>\n",
       "      <td>-1.958215</td>\n",
       "    </tr>\n",
       "  </tbody>\n",
       "</table>\n",
       "</div>"
      ],
      "text/plain": [
       "   KAU_Metro Area Code             KAU_Metro Area Name  \\\n",
       "0                12060  Atlanta-Sandy Springs-Marietta   \n",
       "1                12420    Austin-Round Rock-San Marcos   \n",
       "2                12580                Baltimore-Towson   \n",
       "3                14460         Boston-Cambridge-Quincy   \n",
       "4                16740    Charlotte-Gastonia-Rock Hill   \n",
       "\n",
       "  KAU_Metro Area Main City          KAU_Metro Area States  KAU_Rank 2015  \\\n",
       "0                  Atlanta                        Georgia             13   \n",
       "1                   Austin                          Texas              1   \n",
       "2                Baltimore                       Maryland             17   \n",
       "3                   Boston    Massachusetts-New Hampshire             22   \n",
       "4                Charlotte  North Carolina-South Carolina             25   \n",
       "\n",
       "   KAU_Rank 2014  KAU_Z-Score 2015  KAU_Z-Score 2014  \n",
       "0             18         -0.149070         -0.856135  \n",
       "1              2          4.288039          4.347403  \n",
       "2             19         -0.800236         -0.906375  \n",
       "3             31         -1.168361         -2.270829  \n",
       "4             28         -1.631065         -1.958215  "
      ]
     },
     "execution_count": 36,
     "metadata": {},
     "output_type": "execute_result"
    }
   ],
   "source": [
    "# rename sudf columns\n",
    "sudf_cols = {}\n",
    "for i, j in enumerate(sudf.columns):\n",
    "    sudf_cols[j] = 'KAU_' + j\n",
    "    \n",
    "sudf = sudf.rename(columns=sudf_cols)\n",
    "sudf.head()"
   ]
  },
  {
   "cell_type": "code",
   "execution_count": 37,
   "metadata": {},
   "outputs": [
    {
     "data": {
      "text/html": [
       "<div>\n",
       "<table border=\"1\" class=\"dataframe\">\n",
       "  <thead>\n",
       "    <tr style=\"text-align: right;\">\n",
       "      <th></th>\n",
       "      <th>SA_City</th>\n",
       "      <th>CS_City</th>\n",
       "      <th>UNITID</th>\n",
       "      <th>SA_CODE_PLUS</th>\n",
       "      <th>SA_UNITID_P</th>\n",
       "      <th>SA_INSTNM</th>\n",
       "      <th>SA_BRANCH</th>\n",
       "      <th>SA_Address</th>\n",
       "      <th>SA_State</th>\n",
       "      <th>SA_ZIP</th>\n",
       "    </tr>\n",
       "  </thead>\n",
       "  <tbody>\n",
       "    <tr>\n",
       "      <th>0</th>\n",
       "      <td>NORMAL</td>\n",
       "      <td>Normal</td>\n",
       "      <td>100654</td>\n",
       "      <td>001</td>\n",
       "      <td>100654001</td>\n",
       "      <td>Alabama A &amp; M University</td>\n",
       "      <td>Main Campus</td>\n",
       "      <td>4900 MERIDIAN ST</td>\n",
       "      <td>AL</td>\n",
       "      <td>35762</td>\n",
       "    </tr>\n",
       "    <tr>\n",
       "      <th>1</th>\n",
       "      <td>BIRMINGHAM</td>\n",
       "      <td>Birmingham</td>\n",
       "      <td>100663</td>\n",
       "      <td>001</td>\n",
       "      <td>100663001</td>\n",
       "      <td>University of Alabama at Birmingham</td>\n",
       "      <td>Main Campus</td>\n",
       "      <td>ADMINISTRATION BLDG SUITE 1070, 701 20th Stree...</td>\n",
       "      <td>AL</td>\n",
       "      <td>352940110</td>\n",
       "    </tr>\n",
       "    <tr>\n",
       "      <th>2</th>\n",
       "      <td>MONTGOMERY</td>\n",
       "      <td>Montgomery</td>\n",
       "      <td>100690</td>\n",
       "      <td>001</td>\n",
       "      <td>100690001</td>\n",
       "      <td>Amridge University</td>\n",
       "      <td>Main Campus</td>\n",
       "      <td>1200 TAYLOR RD</td>\n",
       "      <td>AL</td>\n",
       "      <td>361173553</td>\n",
       "    </tr>\n",
       "    <tr>\n",
       "      <th>3</th>\n",
       "      <td>HUNTSVILLE</td>\n",
       "      <td>Huntsville</td>\n",
       "      <td>100706</td>\n",
       "      <td>001</td>\n",
       "      <td>100706001</td>\n",
       "      <td>University of Alabama in Huntsville</td>\n",
       "      <td>Main Campus</td>\n",
       "      <td>301 SPARKMAN DR</td>\n",
       "      <td>AL</td>\n",
       "      <td>35899</td>\n",
       "    </tr>\n",
       "    <tr>\n",
       "      <th>4</th>\n",
       "      <td>MONTGOMERY</td>\n",
       "      <td>Montgomery</td>\n",
       "      <td>100724</td>\n",
       "      <td>001</td>\n",
       "      <td>100724001</td>\n",
       "      <td>Alabama State University</td>\n",
       "      <td>Main Campus</td>\n",
       "      <td>915 SOUTH JACKSON ST</td>\n",
       "      <td>AL</td>\n",
       "      <td>361040271</td>\n",
       "    </tr>\n",
       "    <tr>\n",
       "      <th>5</th>\n",
       "      <td>TUSCALOOSA</td>\n",
       "      <td>Tuscaloosa</td>\n",
       "      <td>100751</td>\n",
       "      <td>001</td>\n",
       "      <td>100751001</td>\n",
       "      <td>The University of Alabama</td>\n",
       "      <td>Main Campus</td>\n",
       "      <td>1110 Jackson Ave</td>\n",
       "      <td>AL</td>\n",
       "      <td>354870180</td>\n",
       "    </tr>\n",
       "    <tr>\n",
       "      <th>6</th>\n",
       "      <td>Alexander City</td>\n",
       "      <td>Alexander City</td>\n",
       "      <td>100760</td>\n",
       "      <td>001</td>\n",
       "      <td>100760001</td>\n",
       "      <td>Central Alabama Community College</td>\n",
       "      <td>Alexander City Campus</td>\n",
       "      <td>1675 Cherokee Rd</td>\n",
       "      <td>AL</td>\n",
       "      <td>35010</td>\n",
       "    </tr>\n",
       "    <tr>\n",
       "      <th>7</th>\n",
       "      <td>ATHENS</td>\n",
       "      <td>Athens</td>\n",
       "      <td>100812</td>\n",
       "      <td>001</td>\n",
       "      <td>100812001</td>\n",
       "      <td>Athens State University</td>\n",
       "      <td>Athens State University Main Campus</td>\n",
       "      <td>300 N BEATY ST</td>\n",
       "      <td>AL</td>\n",
       "      <td>35611</td>\n",
       "    </tr>\n",
       "    <tr>\n",
       "      <th>8</th>\n",
       "      <td>MONTGOMERY</td>\n",
       "      <td>Montgomery</td>\n",
       "      <td>100830</td>\n",
       "      <td>001</td>\n",
       "      <td>100830001</td>\n",
       "      <td>Auburn University at Montgomery</td>\n",
       "      <td>Auburn University Montgomery</td>\n",
       "      <td>7400 EAST DRIVE</td>\n",
       "      <td>AL</td>\n",
       "      <td>361173596</td>\n",
       "    </tr>\n",
       "    <tr>\n",
       "      <th>9</th>\n",
       "      <td>Auburn</td>\n",
       "      <td>Auburn University</td>\n",
       "      <td>100858</td>\n",
       "      <td>001</td>\n",
       "      <td>100858001</td>\n",
       "      <td>Auburn University</td>\n",
       "      <td>Main Campus</td>\n",
       "      <td>107 Samford Hall</td>\n",
       "      <td>AL</td>\n",
       "      <td>36849</td>\n",
       "    </tr>\n",
       "  </tbody>\n",
       "</table>\n",
       "</div>"
      ],
      "text/plain": [
       "          SA_City            CS_City  UNITID SA_CODE_PLUS SA_UNITID_P  \\\n",
       "0          NORMAL             Normal  100654          001   100654001   \n",
       "1      BIRMINGHAM         Birmingham  100663          001   100663001   \n",
       "2      MONTGOMERY         Montgomery  100690          001   100690001   \n",
       "3      HUNTSVILLE         Huntsville  100706          001   100706001   \n",
       "4      MONTGOMERY         Montgomery  100724          001   100724001   \n",
       "5      TUSCALOOSA         Tuscaloosa  100751          001   100751001   \n",
       "6  Alexander City     Alexander City  100760          001   100760001   \n",
       "7          ATHENS             Athens  100812          001   100812001   \n",
       "8      MONTGOMERY         Montgomery  100830          001   100830001   \n",
       "9          Auburn  Auburn University  100858          001   100858001   \n",
       "\n",
       "                             SA_INSTNM                            SA_BRANCH  \\\n",
       "0             Alabama A & M University                          Main Campus   \n",
       "1  University of Alabama at Birmingham                          Main Campus   \n",
       "2                   Amridge University                          Main Campus   \n",
       "3  University of Alabama in Huntsville                          Main Campus   \n",
       "4             Alabama State University                          Main Campus   \n",
       "5            The University of Alabama                          Main Campus   \n",
       "6    Central Alabama Community College                Alexander City Campus   \n",
       "7              Athens State University  Athens State University Main Campus   \n",
       "8      Auburn University at Montgomery         Auburn University Montgomery   \n",
       "9                    Auburn University                          Main Campus   \n",
       "\n",
       "                                          SA_Address SA_State     SA_ZIP  \n",
       "0                                   4900 MERIDIAN ST       AL      35762  \n",
       "1  ADMINISTRATION BLDG SUITE 1070, 701 20th Stree...       AL  352940110  \n",
       "2                                     1200 TAYLOR RD       AL  361173553  \n",
       "3                                    301 SPARKMAN DR       AL      35899  \n",
       "4                               915 SOUTH JACKSON ST       AL  361040271  \n",
       "5                                   1110 Jackson Ave       AL  354870180  \n",
       "6                                   1675 Cherokee Rd       AL      35010  \n",
       "7                                     300 N BEATY ST       AL      35611  \n",
       "8                                    7400 EAST DRIVE       AL  361173596  \n",
       "9                                   107 Samford Hall       AL      36849  "
      ]
     },
     "execution_count": 37,
     "metadata": {},
     "output_type": "execute_result"
    }
   ],
   "source": [
    "# take a look at first 10 rows, first 10 columns of mdf\n",
    "mdf.iloc[:10,:10]"
   ]
  },
  {
   "cell_type": "code",
   "execution_count": 38,
   "metadata": {},
   "outputs": [
    {
     "name": "stdout",
     "output_type": "stream",
     "text": [
      "# matches:  30\n",
      "# not matches:  10\n",
      "** elements of sudf that don't match with mdf: \n",
      "[(15, False), (16, False), (17, False), (22, False), (31, False), (32, False), (33, False), (34, False), (36, False), (38, False)]\n"
     ]
    }
   ],
   "source": [
    "# let's merge on SA_City (mdf) and 'Metro Area Main City' (sudf)\n",
    "# first, give the columns a shared name and convert them to lower casee\n",
    "sudf = sudf.rename(columns={sudf.columns[2]:'City'})\n",
    "mdf = mdf.rename(columns={'SA_City':'City'})\n",
    "sudf.loc[:,'City'] = sudf.City.str.lower()\n",
    "mdf.loc[:,'City'] = mdf.City.str.lower()\n",
    "mdf['City'] = mdf.City.fillna('')\n",
    "\n",
    "# let's see how many of the City names match between the DataFrames\n",
    "# Here, we're using list comprehension with a for loop, the 'enumerate' \n",
    "# built in function, and the Pandas/numpy Series object 'isin' method.\n",
    "nope = [(i, j) for (i, j) in enumerate(sudf.City.isin(mdf.City)) if not j]\n",
    "print '# matches: ',len(sudf) - len(nope)\n",
    "print '# not matches: ', len(nope)\n",
    "print '** elements of sudf that don\\'t match with mdf: \\n', nope"
   ]
  },
  {
   "cell_type": "code",
   "execution_count": 39,
   "metadata": {},
   "outputs": [],
   "source": [
    "# Let's fix the 10 non-matches\n",
    "# use this function to find indexes of non-matches in both dataframes\n",
    "def check(index):\n",
    "    sc = sudf.loc[index,'City']   \n",
    "    print 'sudf:', sc\n",
    "    keyword = raw_input(\"enter search word:     \")\n",
    "    print keyword\n",
    "    x = [i for i, j in enumerate(mdf.City.str.contains(keyword)) if j]\n",
    "    print \"number of matches:  \",  len(x)\n",
    "    print 'mdf city:', mdf.City[x]"
   ]
  },
  {
   "cell_type": "code",
   "execution_count": 40,
   "metadata": {},
   "outputs": [],
   "source": [
    "#check(15)"
   ]
  },
  {
   "cell_type": "code",
   "execution_count": 41,
   "metadata": {},
   "outputs": [],
   "source": [
    "sudf_repl = \\\n",
    "{ 'City' :\n",
    "                { sudf.City[15]:mdf.City[1315],\n",
    "                  sudf.City[16]:mdf.City[2140],\n",
    "                  sudf.City[17]:mdf.City[214],\n",
    "                  sudf.City[22]:mdf.City[2304],\n",
    "                  sudf.City[31]:mdf.City[3612],\n",
    "                  sudf.City[32]:mdf.City[225],\n",
    "                  sudf.City[33]:mdf.City[201],\n",
    "                  sudf.City[34]:mdf.City[282],\n",
    "                  sudf.City[36]:mdf.City[1964],\n",
    "                  sudf.City[38]:mdf.City[3818] }\n",
    "}\n",
    "\n",
    "sudf = sudf.replace(sudf_repl)"
   ]
  },
  {
   "cell_type": "code",
   "execution_count": 42,
   "metadata": {},
   "outputs": [
    {
     "name": "stdout",
     "output_type": "stream",
     "text": [
      "# matches:  40\n",
      "# not matches:  0\n",
      "** elements of safedf that don't match with csdf: \n",
      "[]\n"
     ]
    }
   ],
   "source": [
    "# Let's check matches again\n",
    "nope = [(i, j) for (i, j) in enumerate(sudf.City.isin(mdf.City)) if not j]\n",
    "print '# matches: ',len(sudf) - len(nope)\n",
    "print '# not matches: ', len(nope)\n",
    "print '** elements of safedf that don\\'t match with csdf: \\n', nope"
   ]
  },
  {
   "cell_type": "code",
   "execution_count": 43,
   "metadata": {},
   "outputs": [
    {
     "name": "stdout",
     "output_type": "stream",
     "text": [
      "shape mdf: (7804, 1775)\n",
      "shape sudf: (40, 8)\n",
      "shape fulldf: (7804, 1782)\n"
     ]
    }
   ],
   "source": [
    "# now we can join sudf and mdf on 'City'\n",
    "print 'shape mdf:', mdf.shape\n",
    "print 'shape sudf:', sudf.shape\n",
    "fulldf = pd.merge(mdf, sudf, how='left', on='City')\n",
    "print 'shape fulldf:', fulldf.shape"
   ]
  },
  {
   "cell_type": "markdown",
   "metadata": {},
   "source": [
    "## FBI Crime Dataset"
   ]
  },
  {
   "cell_type": "markdown",
   "metadata": {},
   "source": [
    "*Note*: Inspection of the campus safety dataset (safedf) reveals that that data is too sparse -- too few universities and colleges are represented in the data, presumably because they didn't complete the survey used for data collection for whatever reason. So, as is often the case, deeper inspection of the data reveals that we need to change course.\n",
    "\n",
    "Let's instead include data from the FBI. This will require that we merge the FBI dataset and we will be using data reported by municipalities rather than campuses."
   ]
  },
  {
   "cell_type": "code",
   "execution_count": 44,
   "metadata": {},
   "outputs": [
    {
     "data": {
      "text/html": [
       "<div>\n",
       "<table border=\"1\" class=\"dataframe\">\n",
       "  <thead>\n",
       "    <tr style=\"text-align: right;\">\n",
       "      <th></th>\n",
       "      <th>FBI_Agency</th>\n",
       "      <th>FBI_State</th>\n",
       "      <th>FBI_2007</th>\n",
       "      <th>FBI_2008</th>\n",
       "      <th>FBI_2009</th>\n",
       "      <th>FBI_2010</th>\n",
       "      <th>FBI_2011</th>\n",
       "      <th>FBI_2012</th>\n",
       "      <th>Unnamed: 8</th>\n",
       "    </tr>\n",
       "  </thead>\n",
       "  <tbody>\n",
       "    <tr>\n",
       "      <th>0</th>\n",
       "      <td>Birmingham Police Dept</td>\n",
       "      <td>AL</td>\n",
       "      <td>3320.0</td>\n",
       "      <td>3249.0</td>\n",
       "      <td>2812.0</td>\n",
       "      <td>NaN</td>\n",
       "      <td>3163.0</td>\n",
       "      <td>3237.0</td>\n",
       "      <td></td>\n",
       "    </tr>\n",
       "    <tr>\n",
       "      <th>1</th>\n",
       "      <td>Huntsville Police Dept</td>\n",
       "      <td>AL</td>\n",
       "      <td>1379.0</td>\n",
       "      <td>1222.0</td>\n",
       "      <td>1164.0</td>\n",
       "      <td>1182.0</td>\n",
       "      <td>1518.0</td>\n",
       "      <td>1696.0</td>\n",
       "      <td></td>\n",
       "    </tr>\n",
       "    <tr>\n",
       "      <th>2</th>\n",
       "      <td>Mobile Police Dept</td>\n",
       "      <td>AL</td>\n",
       "      <td>1144.0</td>\n",
       "      <td>1204.0</td>\n",
       "      <td>1994.0</td>\n",
       "      <td>1702.0</td>\n",
       "      <td>1619.0</td>\n",
       "      <td>1314.0</td>\n",
       "      <td></td>\n",
       "    </tr>\n",
       "    <tr>\n",
       "      <th>3</th>\n",
       "      <td>Montgomery Police Dept</td>\n",
       "      <td>AL</td>\n",
       "      <td>1157.0</td>\n",
       "      <td>883.0</td>\n",
       "      <td>871.0</td>\n",
       "      <td>797.0</td>\n",
       "      <td>707.0</td>\n",
       "      <td>827.0</td>\n",
       "      <td></td>\n",
       "    </tr>\n",
       "    <tr>\n",
       "      <th>4</th>\n",
       "      <td>Anchorage Police Dept</td>\n",
       "      <td>AK</td>\n",
       "      <td>2405.0</td>\n",
       "      <td>2647.0</td>\n",
       "      <td>2488.0</td>\n",
       "      <td>2432.0</td>\n",
       "      <td>2388.0</td>\n",
       "      <td>2479.0</td>\n",
       "      <td></td>\n",
       "    </tr>\n",
       "  </tbody>\n",
       "</table>\n",
       "</div>"
      ],
      "text/plain": [
       "               FBI_Agency FBI_State  FBI_2007  FBI_2008  FBI_2009  FBI_2010  \\\n",
       "0  Birmingham Police Dept        AL    3320.0    3249.0    2812.0       NaN   \n",
       "1  Huntsville Police Dept        AL    1379.0    1222.0    1164.0    1182.0   \n",
       "2      Mobile Police Dept        AL    1144.0    1204.0    1994.0    1702.0   \n",
       "3  Montgomery Police Dept        AL    1157.0     883.0     871.0     797.0   \n",
       "4   Anchorage Police Dept        AK    2405.0    2647.0    2488.0    2432.0   \n",
       "\n",
       "   FBI_2011  FBI_2012 Unnamed: 8  \n",
       "0    3163.0    3237.0             \n",
       "1    1518.0    1696.0             \n",
       "2    1619.0    1314.0             \n",
       "3     707.0     827.0             \n",
       "4    2388.0    2479.0             "
      ]
     },
     "execution_count": 44,
     "metadata": {},
     "output_type": "execute_result"
    }
   ],
   "source": [
    "# closer inspection reveals that our original Campus Safety data \n",
    "# from data.gov is much too sparse. \n",
    "# \n",
    "# Let's add data from the FBI instead\n",
    "with open('LocalCrime.csv') as f:\n",
    "    crimedf = pd.read_csv(f)\n",
    "\n",
    "# rename columns\n",
    "crime_cols = {}\n",
    "for i in range(0,8):\n",
    "    crime_cols[crimedf.columns[i]] = 'FBI_' + crimedf.columns[i]\n",
    "\n",
    "crimedf = crimedf.rename(columns = crime_cols)\n",
    "  \n",
    "crimedf.head()"
   ]
  },
  {
   "cell_type": "code",
   "execution_count": 45,
   "metadata": {},
   "outputs": [
    {
     "data": {
      "text/html": [
       "<div>\n",
       "<table border=\"1\" class=\"dataframe\">\n",
       "  <thead>\n",
       "    <tr style=\"text-align: right;\">\n",
       "      <th></th>\n",
       "      <th>FBI_Agency</th>\n",
       "      <th>FBI_State</th>\n",
       "      <th>FBI_2007</th>\n",
       "      <th>FBI_2008</th>\n",
       "      <th>FBI_2009</th>\n",
       "      <th>FBI_2010</th>\n",
       "      <th>FBI_2011</th>\n",
       "      <th>FBI_2012</th>\n",
       "      <th>City</th>\n",
       "    </tr>\n",
       "  </thead>\n",
       "  <tbody>\n",
       "    <tr>\n",
       "      <th>0</th>\n",
       "      <td>birmingham police dept</td>\n",
       "      <td>AL</td>\n",
       "      <td>3320.0</td>\n",
       "      <td>3249.0</td>\n",
       "      <td>2812.0</td>\n",
       "      <td>NaN</td>\n",
       "      <td>3163.0</td>\n",
       "      <td>3237.0</td>\n",
       "      <td>birmingham</td>\n",
       "    </tr>\n",
       "    <tr>\n",
       "      <th>1</th>\n",
       "      <td>huntsville police dept</td>\n",
       "      <td>AL</td>\n",
       "      <td>1379.0</td>\n",
       "      <td>1222.0</td>\n",
       "      <td>1164.0</td>\n",
       "      <td>1182.0</td>\n",
       "      <td>1518.0</td>\n",
       "      <td>1696.0</td>\n",
       "      <td>huntsville</td>\n",
       "    </tr>\n",
       "    <tr>\n",
       "      <th>2</th>\n",
       "      <td>mobile police dept</td>\n",
       "      <td>AL</td>\n",
       "      <td>1144.0</td>\n",
       "      <td>1204.0</td>\n",
       "      <td>1994.0</td>\n",
       "      <td>1702.0</td>\n",
       "      <td>1619.0</td>\n",
       "      <td>1314.0</td>\n",
       "      <td>mobile</td>\n",
       "    </tr>\n",
       "    <tr>\n",
       "      <th>3</th>\n",
       "      <td>montgomery police dept</td>\n",
       "      <td>AL</td>\n",
       "      <td>1157.0</td>\n",
       "      <td>883.0</td>\n",
       "      <td>871.0</td>\n",
       "      <td>797.0</td>\n",
       "      <td>707.0</td>\n",
       "      <td>827.0</td>\n",
       "      <td>montgomery</td>\n",
       "    </tr>\n",
       "    <tr>\n",
       "      <th>4</th>\n",
       "      <td>anchorage police dept</td>\n",
       "      <td>AK</td>\n",
       "      <td>2405.0</td>\n",
       "      <td>2647.0</td>\n",
       "      <td>2488.0</td>\n",
       "      <td>2432.0</td>\n",
       "      <td>2388.0</td>\n",
       "      <td>2479.0</td>\n",
       "      <td>anchorage</td>\n",
       "    </tr>\n",
       "  </tbody>\n",
       "</table>\n",
       "</div>"
      ],
      "text/plain": [
       "               FBI_Agency FBI_State  FBI_2007  FBI_2008  FBI_2009  FBI_2010  \\\n",
       "0  birmingham police dept        AL    3320.0    3249.0    2812.0       NaN   \n",
       "1  huntsville police dept        AL    1379.0    1222.0    1164.0    1182.0   \n",
       "2      mobile police dept        AL    1144.0    1204.0    1994.0    1702.0   \n",
       "3  montgomery police dept        AL    1157.0     883.0     871.0     797.0   \n",
       "4   anchorage police dept        AK    2405.0    2647.0    2488.0    2432.0   \n",
       "\n",
       "   FBI_2011  FBI_2012        City  \n",
       "0    3163.0    3237.0  birmingham  \n",
       "1    1518.0    1696.0  huntsville  \n",
       "2    1619.0    1314.0      mobile  \n",
       "3     707.0     827.0  montgomery  \n",
       "4    2388.0    2479.0   anchorage  "
      ]
     },
     "execution_count": 45,
     "metadata": {},
     "output_type": "execute_result"
    }
   ],
   "source": [
    "# drop extra column\n",
    "crimedf = crimedf.drop([crimedf.columns[-1]], axis=1)\n",
    "\n",
    "# fill missing values with empty string     \n",
    "crimedf['FBI_Agency'] = crimedf.FBI_Agency.fillna('')\n",
    "\n",
    "# transform to lowercase\n",
    "crimedf['FBI_Agency'] = crimedf.FBI_Agency.str.lower()\n",
    "\n",
    "# let's try to extract city names so we can join on city variable\n",
    "stops = ['dept','of','city', 'bureau', 'police', '(', ')', 'county',\n",
    "         'department', 'metropolitan', 'metro','public', 'safety']\n",
    "\n",
    "# remove unwanted words, keeping only city names\n",
    "def remove(x):\n",
    "    for word in stops:\n",
    "        x = x.replace(word, '')\n",
    "    return x\n",
    "crimedf['City'] = crimedf.FBI_Agency.apply(remove)\n",
    "\n",
    "# transform to all lower-case\n",
    "crimedf['City'] = crimedf.City.str.lower()\n",
    "\n",
    "# change to 'object' pandas/numpy dtype\n",
    "crimedf['City'] = crimedf.City.astype('object')\n",
    "\n",
    "# strip whitespace\n",
    "crimedf['City'] = crimedf.City.str.strip()\n",
    "\n",
    "crimedf.head()"
   ]
  },
  {
   "cell_type": "code",
   "execution_count": 46,
   "metadata": {},
   "outputs": [
    {
     "name": "stdout",
     "output_type": "stream",
     "text": [
      "# matches:  266\n",
      "# not matches:  23\n",
      "crimedf unique cities: 278\n",
      "fulldf unique cities: 2448\n"
     ]
    }
   ],
   "source": [
    "# let's see how many of the City names match between the DataFrames\n",
    "fulldf['City'] = fulldf.City.fillna('')\n",
    "nope = [(i, j) for (i, j) in enumerate(crimedf.City.isin(fulldf.City)) if not j]\n",
    "print '# matches: ',len(crimedf) - len(nope)\n",
    "print '# not matches: ', len(nope)\n",
    "print 'crimedf unique cities:', len(crimedf.City.unique())\n",
    "print 'fulldf unique cities:', len(fulldf.City.unique())"
   ]
  },
  {
   "cell_type": "code",
   "execution_count": 47,
   "metadata": {},
   "outputs": [
    {
     "name": "stdout",
     "output_type": "stream",
     "text": [
      "Cities in crimedf that don't match with fulldf:\n",
      "6 : gilbert\n",
      "12 : surprise\n",
      "21 : carslbad\n",
      "23 : murrieta\n",
      "27 : daly\n",
      "54 : palmdale\n",
      "58 : rialto\n",
      "73 : simi valley\n",
      "102 : port st lucie\n",
      "104 : coral springs\n",
      "113 : palm bay\n",
      "120 : athens-clarke\n",
      "147 : lexington-fayette\n",
      "167 : st. paul\n",
      "182 : edison twp\n",
      "184 : jersey\n",
      "189 : amherst town\n",
      "196 : charlotte-mecklenburg\n",
      "213 : oklahoma\n",
      "233 : nashville-davidson\n",
      "247 : frisco\n",
      "269 : salt lake\n",
      "271 : west valley\n"
     ]
    }
   ],
   "source": [
    "print 'Cities in crimedf that don\\'t match with fulldf:'\n",
    "for i,j in enumerate(nope):\n",
    "    print j[0], ':', crimedf.City[j[0]]"
   ]
  },
  {
   "cell_type": "code",
   "execution_count": 48,
   "metadata": {},
   "outputs": [],
   "source": [
    "# Let's see if we can fix these to make them match\n",
    "# use this function to find indexes of non-matches in both dataframes\n",
    "def check(index):\n",
    "    sc = crimedf.loc[index,'City']   \n",
    "    print 'crimedf:', sc\n",
    "    keyword = raw_input(\"enter search word:     \")\n",
    "    print keyword\n",
    "    x = [i for i, j in enumerate(fulldf.City.str.contains(keyword)) if j]\n",
    "    print \"number of matches:  \",  len(x)\n",
    "    print 'fulldf city:', fulldf.City[x]"
   ]
  },
  {
   "cell_type": "code",
   "execution_count": 49,
   "metadata": {},
   "outputs": [],
   "source": [
    "#check(271)"
   ]
  },
  {
   "cell_type": "code",
   "execution_count": 50,
   "metadata": {},
   "outputs": [],
   "source": [
    "#[crimedf.City[i] for i,j  in enumerate(crimedf.City.str.contains('charlotte')) if j]"
   ]
  },
  {
   "cell_type": "code",
   "execution_count": 51,
   "metadata": {},
   "outputs": [],
   "source": [
    "crimedf_repl = \\\n",
    "{ 'City' :\n",
    "                { crimedf.City[3]:fulldf.City[456],\n",
    "                  crimedf.City[27]:fulldf.City[338],\n",
    "                  crimedf.City[120]:fulldf.City[883],\n",
    "                  crimedf.City[147]:fulldf.City[2007],\n",
    "                  crimedf.City[167]:fulldf.City[1846],\n",
    "                  crimedf.City[182]:fulldf.City[2227],\n",
    "                  crimedf.City[184]:fulldf.City[2220],\n",
    "                  crimedf.City[189]:fulldf.City[1593],\n",
    "                  crimedf.City[196]:fulldf.City[6880],\n",
    "                  crimedf.City[213]:fulldf.City[2971],\n",
    "                  crimedf.City[233]:fulldf.City[6798],\n",
    "                  crimedf.City[269]:fulldf.City[6520]}\n",
    "}\n",
    "\n",
    "crimedf = crimedf.replace(crimedf_repl)"
   ]
  },
  {
   "cell_type": "code",
   "execution_count": 52,
   "metadata": {},
   "outputs": [
    {
     "name": "stdout",
     "output_type": "stream",
     "text": [
      "# matches:  277\n",
      "# not matches:  12\n",
      "** elements of crimedf.City that don't match with fulldf.City: \n",
      "[(6, False), (12, False), (21, False), (23, False), (54, False), (58, False), (73, False), (102, False), (104, False), (113, False), (247, False), (271, False)]\n"
     ]
    }
   ],
   "source": [
    "# Let's check matches again\n",
    "nope = [(i, j) for (i, j) in enumerate(crimedf.City.isin(fulldf.City)) if not j]\n",
    "print '# matches: ',len(crimedf.City) - len(nope)\n",
    "print '# not matches: ', len(nope)\n",
    "print '** elements of crimedf.City that don\\'t match with fulldf.City: \\n', nope"
   ]
  },
  {
   "cell_type": "markdown",
   "metadata": {},
   "source": [
    "*note*: there are 12 cities remaining that cannot be matched."
   ]
  },
  {
   "cell_type": "code",
   "execution_count": 53,
   "metadata": {},
   "outputs": [
    {
     "name": "stdout",
     "output_type": "stream",
     "text": [
      "fulldf shape:  (7804, 1782)\n",
      "crimedf shape: (289, 9)\n",
      "fulldf shape:  (3107, 1790)\n"
     ]
    }
   ],
   "source": [
    "# Let's merge on City\n",
    "print 'fulldf shape: ', fulldf.shape\n",
    "fulldf = pd.merge(fulldf, crimedf, how='inner', on='City')\n",
    "print 'crimedf shape:', crimedf.shape\n",
    "print 'fulldf shape: ', fulldf.shape"
   ]
  },
  {
   "cell_type": "markdown",
   "metadata": {},
   "source": [
    "After merging the crime data from the FBI (crimedf) by city,\n",
    "we're down to 3107 schools, in 289 cities."
   ]
  },
  {
   "cell_type": "code",
   "execution_count": 54,
   "metadata": {
    "collapsed": true
   },
   "outputs": [],
   "source": [
    "# save to csv\n",
    "#fulldf.to_csv('fulldf.csv')"
   ]
  },
  {
   "cell_type": "markdown",
   "metadata": {
    "collapsed": true
   },
   "source": [
    "Now we have our full data with our three original data tables\n",
    "(college scorecard, FBI crime by city, and Kauffman start up index)\n",
    "all merged into a single DataFrame\n",
    "Now, we can work to extract the information we're after"
   ]
  },
  {
   "cell_type": "markdown",
   "metadata": {},
   "source": [
    "# Step 2\n",
    "\n",
    "## Your Task \n",
    "\n",
    "1. Produce a dataset of schools which satisfy all of Maria's criteria\n",
    "2. Rank them from best to worst according to the same criteria.\n",
    "\n",
    "Maria's schools must:\n",
    "\n",
    "1. be in an urban/metropolitan area.\n",
    "2. be in a city that ranks 75th percentile or higher on Kauffman's start-up rankings.\n",
    "3. be below 50th percentile in overall crime.\n",
    "4. offer a degree in Information Technology/Science."
   ]
  },
  {
   "cell_type": "code",
   "execution_count": 55,
   "metadata": {
    "collapsed": true
   },
   "outputs": [],
   "source": [
    "# we have a dataframe with 1790 columns and 3107 rows\n",
    "# let's extract just the data we need to reach our goal\n",
    "# first, we need to explore the data and documentation \n",
    "# CollegeScorecardDataDictionary-09-12-2015.csv & Reportedcrime121314_Doc.doc\n",
    "\n",
    "# let's start with narrowing the data down to schools in metropolitan areas\n",
    "with open('CollegeScorecardDataDictionary-09-12-2015.csv') as f:\n",
    "    datadict = pd.read_csv(f)\n"
   ]
  },
  {
   "cell_type": "markdown",
   "metadata": {},
   "source": [
    "*Note*: at this point it's necessary to manually look through\n",
    "the data dictionaries and documentation. This is a time when we need to learn about the subject matter contained in the datasets. "
   ]
  },
  {
   "cell_type": "code",
   "execution_count": 57,
   "metadata": {},
   "outputs": [
    {
     "data": {
      "text/html": [
       "<div>\n",
       "<table border=\"1\" class=\"dataframe\">\n",
       "  <thead>\n",
       "    <tr style=\"text-align: right;\">\n",
       "      <th></th>\n",
       "      <th>NAME OF DATA ELEMENT</th>\n",
       "      <th>Year</th>\n",
       "      <th>dev-category</th>\n",
       "      <th>developer-friendly name</th>\n",
       "      <th>VARIABLE NAME</th>\n",
       "      <th>API data type</th>\n",
       "      <th>label</th>\n",
       "      <th>VALUE</th>\n",
       "      <th>LABEL</th>\n",
       "      <th>SCORECARD? Y/N</th>\n",
       "      <th>SOURCE</th>\n",
       "      <th>NOTES</th>\n",
       "    </tr>\n",
       "  </thead>\n",
       "  <tbody>\n",
       "    <tr>\n",
       "      <th>95</th>\n",
       "      <td>Locale of institution</td>\n",
       "      <td>NaN</td>\n",
       "      <td>school</td>\n",
       "      <td>locale</td>\n",
       "      <td>LOCALE</td>\n",
       "      <td>integer</td>\n",
       "      <td>NaN</td>\n",
       "      <td>11</td>\n",
       "      <td>City: Large (population of 250,000 or more)</td>\n",
       "      <td>NaN</td>\n",
       "      <td>IPEDS</td>\n",
       "      <td>NaN</td>\n",
       "    </tr>\n",
       "  </tbody>\n",
       "</table>\n",
       "</div>"
      ],
      "text/plain": [
       "     NAME OF DATA ELEMENT Year dev-category developer-friendly name  \\\n",
       "95  Locale of institution  NaN       school                  locale   \n",
       "\n",
       "   VARIABLE NAME API data type label VALUE  \\\n",
       "95        LOCALE       integer   NaN    11   \n",
       "\n",
       "                                          LABEL SCORECARD? Y/N SOURCE NOTES  \n",
       "95  City: Large (population of 250,000 or more)            NaN  IPEDS   NaN  "
      ]
     },
     "execution_count": 57,
     "metadata": {},
     "output_type": "execute_result"
    }
   ],
   "source": [
    "# it looks like the variable we're after is 'locale'\n",
    "# perform a boolean indexing to extract just those rows \n",
    "# where the 'VARIABLE NAME' is 'LOCALE'\n",
    "datadict[datadict['VARIABLE NAME'] == 'LOCALE']"
   ]
  },
  {
   "cell_type": "code",
   "execution_count": 58,
   "metadata": {},
   "outputs": [
    {
     "data": {
      "text/html": [
       "<div>\n",
       "<table border=\"1\" class=\"dataframe\">\n",
       "  <thead>\n",
       "    <tr style=\"text-align: right;\">\n",
       "      <th></th>\n",
       "      <th>NAME OF DATA ELEMENT</th>\n",
       "      <th>VALUE</th>\n",
       "      <th>LABEL</th>\n",
       "      <th>VARIABLE NAME</th>\n",
       "    </tr>\n",
       "  </thead>\n",
       "  <tbody>\n",
       "    <tr>\n",
       "      <th>95</th>\n",
       "      <td>Locale of institution</td>\n",
       "      <td>11</td>\n",
       "      <td>City: Large (population of 250,000 or more)</td>\n",
       "      <td>LOCALE</td>\n",
       "    </tr>\n",
       "    <tr>\n",
       "      <th>96</th>\n",
       "      <td>NaN</td>\n",
       "      <td>12</td>\n",
       "      <td>City: Midsize (population of at least 100,000 ...</td>\n",
       "      <td>NaN</td>\n",
       "    </tr>\n",
       "    <tr>\n",
       "      <th>97</th>\n",
       "      <td>NaN</td>\n",
       "      <td>13</td>\n",
       "      <td>City: Small (population less than 100,000)</td>\n",
       "      <td>NaN</td>\n",
       "    </tr>\n",
       "    <tr>\n",
       "      <th>98</th>\n",
       "      <td>NaN</td>\n",
       "      <td>21</td>\n",
       "      <td>Suburb: Large (outside principal city, in urba...</td>\n",
       "      <td>NaN</td>\n",
       "    </tr>\n",
       "    <tr>\n",
       "      <th>99</th>\n",
       "      <td>NaN</td>\n",
       "      <td>22</td>\n",
       "      <td>Suburb: Midsize (outside principal city, in ur...</td>\n",
       "      <td>NaN</td>\n",
       "    </tr>\n",
       "    <tr>\n",
       "      <th>100</th>\n",
       "      <td>NaN</td>\n",
       "      <td>23</td>\n",
       "      <td>Suburb: Small (outside principal city, in urba...</td>\n",
       "      <td>NaN</td>\n",
       "    </tr>\n",
       "    <tr>\n",
       "      <th>101</th>\n",
       "      <td>NaN</td>\n",
       "      <td>31</td>\n",
       "      <td>Town: Fringe (in urban cluster up to 10 miles ...</td>\n",
       "      <td>NaN</td>\n",
       "    </tr>\n",
       "    <tr>\n",
       "      <th>102</th>\n",
       "      <td>NaN</td>\n",
       "      <td>32</td>\n",
       "      <td>Town: Distant (in urban cluster more than 10 m...</td>\n",
       "      <td>NaN</td>\n",
       "    </tr>\n",
       "    <tr>\n",
       "      <th>103</th>\n",
       "      <td>NaN</td>\n",
       "      <td>33</td>\n",
       "      <td>Town: Remote (in urban cluster more than 35 mi...</td>\n",
       "      <td>NaN</td>\n",
       "    </tr>\n",
       "    <tr>\n",
       "      <th>104</th>\n",
       "      <td>NaN</td>\n",
       "      <td>41</td>\n",
       "      <td>Rural: Fringe (rural territory up to 5 miles f...</td>\n",
       "      <td>NaN</td>\n",
       "    </tr>\n",
       "    <tr>\n",
       "      <th>105</th>\n",
       "      <td>NaN</td>\n",
       "      <td>42</td>\n",
       "      <td>Rural: Distant (rural territory more than 5 mi...</td>\n",
       "      <td>NaN</td>\n",
       "    </tr>\n",
       "    <tr>\n",
       "      <th>106</th>\n",
       "      <td>NaN</td>\n",
       "      <td>43</td>\n",
       "      <td>Rural: Remote (rural territory more than 25 mi...</td>\n",
       "      <td>NaN</td>\n",
       "    </tr>\n",
       "    <tr>\n",
       "      <th>107</th>\n",
       "      <td>Degree of urbanization of institution</td>\n",
       "      <td>1</td>\n",
       "      <td>Large City (a central city of a CMSA or MSA, w...</td>\n",
       "      <td>locale2</td>\n",
       "    </tr>\n",
       "  </tbody>\n",
       "</table>\n",
       "</div>"
      ],
      "text/plain": [
       "                      NAME OF DATA ELEMENT VALUE  \\\n",
       "95                   Locale of institution    11   \n",
       "96                                     NaN    12   \n",
       "97                                     NaN    13   \n",
       "98                                     NaN    21   \n",
       "99                                     NaN    22   \n",
       "100                                    NaN    23   \n",
       "101                                    NaN    31   \n",
       "102                                    NaN    32   \n",
       "103                                    NaN    33   \n",
       "104                                    NaN    41   \n",
       "105                                    NaN    42   \n",
       "106                                    NaN    43   \n",
       "107  Degree of urbanization of institution     1   \n",
       "\n",
       "                                                 LABEL VARIABLE NAME  \n",
       "95         City: Large (population of 250,000 or more)        LOCALE  \n",
       "96   City: Midsize (population of at least 100,000 ...           NaN  \n",
       "97          City: Small (population less than 100,000)           NaN  \n",
       "98   Suburb: Large (outside principal city, in urba...           NaN  \n",
       "99   Suburb: Midsize (outside principal city, in ur...           NaN  \n",
       "100  Suburb: Small (outside principal city, in urba...           NaN  \n",
       "101  Town: Fringe (in urban cluster up to 10 miles ...           NaN  \n",
       "102  Town: Distant (in urban cluster more than 10 m...           NaN  \n",
       "103  Town: Remote (in urban cluster more than 35 mi...           NaN  \n",
       "104  Rural: Fringe (rural territory up to 5 miles f...           NaN  \n",
       "105  Rural: Distant (rural territory more than 5 mi...           NaN  \n",
       "106  Rural: Remote (rural territory more than 25 mi...           NaN  \n",
       "107  Large City (a central city of a CMSA or MSA, w...       locale2  "
      ]
     },
     "execution_count": 58,
     "metadata": {},
     "output_type": "execute_result"
    }
   ],
   "source": [
    "# take a closer look\n",
    "datadict[95:108][['NAME OF DATA ELEMENT','VALUE','LABEL', 'VARIABLE NAME']]"
   ]
  },
  {
   "cell_type": "code",
   "execution_count": 59,
   "metadata": {},
   "outputs": [
    {
     "name": "stdout",
     "output_type": "stream",
     "text": [
      "fulldf shape: (3107, 1790)\n",
      "unique fulldf LOCALE: 11.0    1408\n",
      "12.0     878\n",
      "21.0     548\n",
      "13.0      99\n",
      "32.0      49\n",
      "41.0      46\n",
      "22.0      34\n",
      "33.0      16\n",
      "23.0      14\n",
      "42.0       8\n",
      "31.0       6\n",
      "43.0       1\n",
      "Name: CS_LOCALE, dtype: int64\n",
      "fulldf shape: (2286, 1790)\n",
      "unique fulldf LOCALE: 11.0    1408\n",
      "12.0     878\n",
      "Name: CS_LOCALE, dtype: int64\n"
     ]
    }
   ],
   "source": [
    "# looks like rows 95 - 106 are for 'VARIABLE NAME' equal 'LOCALE'\n",
    "# OK. This looks to me like we're only interested in schools where the \n",
    "# 'Locale of insition' variable is 11 or 12 (bigger cities)\n",
    "# note: recall that we added 'CS_' prefix earlier\n",
    "print 'fulldf shape:', fulldf.shape\n",
    "print 'unique fulldf LOCALE:', fulldf.CS_LOCALE.value_counts()\n",
    "# Let's use boolean indexing ( the pipe symbol represents 'or')\n",
    "fulldf = fulldf[(fulldf.CS_LOCALE == 11) | (fulldf.CS_LOCALE == 12)]\n",
    "print 'fulldf shape:', fulldf.shape\n",
    "print 'unique fulldf LOCALE:', fulldf.CS_LOCALE.value_counts()"
   ]
  },
  {
   "cell_type": "code",
   "execution_count": 60,
   "metadata": {},
   "outputs": [
    {
     "name": "stdout",
     "output_type": "stream",
     "text": [
      "<class 'pandas.core.frame.DataFrame'>\n",
      "RangeIndex: 40 entries, 0 to 39\n",
      "Data columns (total 8 columns):\n",
      "KAU_Metro Area Code      40 non-null int64\n",
      "KAU_Metro Area Name      40 non-null object\n",
      "City                     40 non-null object\n",
      "KAU_Metro Area States    40 non-null object\n",
      "KAU_Rank 2015            40 non-null int64\n",
      "KAU_Rank 2014            40 non-null int64\n",
      "KAU_Z-Score 2015         40 non-null float64\n",
      "KAU_Z-Score 2014         40 non-null float64\n",
      "dtypes: float64(2), int64(3), object(3)\n",
      "memory usage: 2.6+ KB\n"
     ]
    }
   ],
   "source": [
    "# After extracting only the rows where the 'LOCALE' variable is 11 or 12,\n",
    "# we're down to a dataframe of shape (2286,1790)\n",
    "# Now let's reduce our data to only schools in cities that rank above 75th\n",
    "# percentile on Kauffman's startup index\n",
    "# let's investigate by looking back at the original Kauffman data (sudf)\n",
    "sudf.info()"
   ]
  },
  {
   "cell_type": "code",
   "execution_count": 61,
   "metadata": {},
   "outputs": [],
   "source": [
    "# we can work with 'Rank 2015'\n",
    "# let's start by changing the name for convenience\n",
    "fulldf = fulldf.rename(columns={'KAU_Rank 2015':'KAU_Rank2015'})"
   ]
  },
  {
   "cell_type": "code",
   "execution_count": 62,
   "metadata": {},
   "outputs": [
    {
     "name": "stdout",
     "output_type": "stream",
     "text": [
      "number of cities to remove:  1299\n",
      "cities to keep: 987\n",
      "fulldf shape: (987, 1791)\n"
     ]
    }
   ],
   "source": [
    "# Remove any schools in cities that are not on Kauffman's list\n",
    "print 'number of cities to remove: ', sum(fulldf.KAU_Rank2015.isnull())\n",
    "print 'cities to keep:', sum(fulldf.KAU_Rank2015.notnull())\n",
    "fulldf.loc[:,'Rank2015'] = fulldf.KAU_Rank2015.fillna(-9999)\n",
    "fulldf = fulldf[fulldf.KAU_Rank2015 > 0]\n",
    "print 'fulldf shape:', fulldf.shape"
   ]
  },
  {
   "cell_type": "markdown",
   "metadata": {},
   "source": [
    "After removing rows with missing values in Kauffman's 2015 rankings, \n",
    "We're down to 987 rows."
   ]
  },
  {
   "cell_type": "code",
   "execution_count": 63,
   "metadata": {},
   "outputs": [],
   "source": [
    "# let's create a new variable based on KAU_Rank2015 percentiles\n",
    "# This will allow us to filter schools in the the top 25 percentiles\n",
    "from scipy.stats import percentileofscore\n",
    "fulldf['PercentileRank'] = [percentileofscore(fulldf.KAU_Rank2015, i, 'rank') for i in fulldf.Rank2015]"
   ]
  },
  {
   "cell_type": "code",
   "execution_count": 64,
   "metadata": {},
   "outputs": [
    {
     "data": {
      "text/plain": [
       "count    987.000000\n",
       "mean      50.050659\n",
       "std       28.852340\n",
       "min        1.418440\n",
       "25%       25.177305\n",
       "50%       50.253293\n",
       "75%       74.265451\n",
       "max       98.834853\n",
       "Name: PercentileRank, dtype: float64"
      ]
     },
     "execution_count": 64,
     "metadata": {},
     "output_type": "execute_result"
    }
   ],
   "source": [
    "fulldf.PercentileRank.describe()"
   ]
  },
  {
   "cell_type": "code",
   "execution_count": 65,
   "metadata": {},
   "outputs": [
    {
     "data": {
      "text/plain": [
       "<matplotlib.axes._subplots.AxesSubplot at 0x1261a9b0>"
      ]
     },
     "execution_count": 65,
     "metadata": {},
     "output_type": "execute_result"
    },
    {
     "data": {
      "image/png": "[encoded data removed]",
      "text/plain": [
       "<matplotlib.figure.Figure at 0x915a080>"
      ]
     },
     "metadata": {},
     "output_type": "display_data"
    }
   ],
   "source": [
    "%matplotlib inline\n",
    "import matplotlib.pyplot as plt\n",
    "fig, (ax1, ax2) = plt.subplots(1,2)\n",
    "fulldf.PercentileRank.hist(ax=ax1, bins=50)\n",
    "fulldf.KAU_Rank2015.hist(ax=ax2, bins=50)"
   ]
  },
  {
   "cell_type": "code",
   "execution_count": 66,
   "metadata": {},
   "outputs": [
    {
     "name": "stdout",
     "output_type": "stream",
     "text": [
      "shape fulldf: (219, 1792)\n"
     ]
    }
   ],
   "source": [
    "# now, let's remove all schools below 75th percentile\n",
    "fulldf = fulldf[fulldf.PercentileRank < 25]\n",
    "print 'shape fulldf:', fulldf.shape\n",
    "# this reduces the dataset down to 219 schools"
   ]
  },
  {
   "cell_type": "code",
   "execution_count": 67,
   "metadata": {},
   "outputs": [
    {
     "data": {
      "text/plain": [
       "new york         85\n",
       "los angeles      46\n",
       "austin           27\n",
       "denver           21\n",
       "san francisco    19\n",
       "miami            14\n",
       "san jose          7\n",
       "Name: City, dtype: int64"
      ]
     },
     "execution_count": 67,
     "metadata": {},
     "output_type": "execute_result"
    }
   ],
   "source": [
    "fulldf.City.value_counts()"
   ]
  },
  {
   "cell_type": "markdown",
   "metadata": {},
   "source": [
    "After filtering for Maria's criteria for metropolitan areas in high in startups,\n",
    "we're down to the seven cities listed above"
   ]
  },
  {
   "cell_type": "code",
   "execution_count": 68,
   "metadata": {},
   "outputs": [
    {
     "name": "stdout",
     "output_type": "stream",
     "text": [
      "<class 'pandas.core.frame.DataFrame'>\n",
      "RangeIndex: 1953 entries, 0 to 1952\n",
      "Data columns (total 12 columns):\n",
      "NAME OF DATA ELEMENT       1720 non-null object\n",
      "Year                       253 non-null object\n",
      "dev-category               1848 non-null object\n",
      "developer-friendly name    1117 non-null object\n",
      "VARIABLE NAME              1720 non-null object\n",
      "API data type              1720 non-null object\n",
      "label                      38 non-null object\n",
      "VALUE                      289 non-null object\n",
      "LABEL                      297 non-null object\n",
      "SCORECARD? Y/N             63 non-null object\n",
      "SOURCE                     1720 non-null object\n",
      "NOTES                      44 non-null object\n",
      "dtypes: object(12)\n",
      "memory usage: 183.2+ KB\n"
     ]
    }
   ],
   "source": [
    "# next, let's narrow down to only school with degrees in Information Technology\n",
    "datadict.info()\n",
    "#datadict.str.contains('information')"
   ]
  },
  {
   "cell_type": "code",
   "execution_count": 69,
   "metadata": {},
   "outputs": [
    {
     "data": {
      "text/html": [
       "<div>\n",
       "<table border=\"1\" class=\"dataframe\">\n",
       "  <thead>\n",
       "    <tr style=\"text-align: right;\">\n",
       "      <th></th>\n",
       "      <th>NAME OF DATA ELEMENT</th>\n",
       "      <th>Year</th>\n",
       "      <th>dev-category</th>\n",
       "      <th>developer-friendly name</th>\n",
       "      <th>VARIABLE NAME</th>\n",
       "      <th>API data type</th>\n",
       "      <th>label</th>\n",
       "      <th>VALUE</th>\n",
       "      <th>LABEL</th>\n",
       "      <th>SCORECARD? Y/N</th>\n",
       "      <th>SOURCE</th>\n",
       "      <th>NOTES</th>\n",
       "    </tr>\n",
       "  </thead>\n",
       "  <tbody>\n",
       "    <tr>\n",
       "      <th>297</th>\n",
       "      <td>Percentage of degrees awarded in Computer And ...</td>\n",
       "      <td>NaN</td>\n",
       "      <td>academics</td>\n",
       "      <td>program_percentage.computer</td>\n",
       "      <td>PCIP11</td>\n",
       "      <td>float</td>\n",
       "      <td>Computer and Information Sciences and Support ...</td>\n",
       "      <td>NaN</td>\n",
       "      <td>Computer and Information Sciences and Support ...</td>\n",
       "      <td>NaN</td>\n",
       "      <td>IPEDS</td>\n",
       "      <td>NaN</td>\n",
       "    </tr>\n",
       "    <tr>\n",
       "      <th>327</th>\n",
       "      <td>Percentage of degrees awarded in Business, Man...</td>\n",
       "      <td>NaN</td>\n",
       "      <td>academics</td>\n",
       "      <td>program_percentage.business_marketing</td>\n",
       "      <td>PCIP52</td>\n",
       "      <td>float</td>\n",
       "      <td>Business, Management, Marketing, and Related S...</td>\n",
       "      <td>NaN</td>\n",
       "      <td>Business, Management, Marketing, and Related S...</td>\n",
       "      <td>NaN</td>\n",
       "      <td>IPEDS</td>\n",
       "      <td>NaN</td>\n",
       "    </tr>\n",
       "  </tbody>\n",
       "</table>\n",
       "</div>"
      ],
      "text/plain": [
       "                                  NAME OF DATA ELEMENT Year dev-category  \\\n",
       "297  Percentage of degrees awarded in Computer And ...  NaN    academics   \n",
       "327  Percentage of degrees awarded in Business, Man...  NaN    academics   \n",
       "\n",
       "                   developer-friendly name VARIABLE NAME API data type  \\\n",
       "297            program_percentage.computer        PCIP11         float   \n",
       "327  program_percentage.business_marketing        PCIP52         float   \n",
       "\n",
       "                                                 label VALUE  \\\n",
       "297  Computer and Information Sciences and Support ...   NaN   \n",
       "327  Business, Management, Marketing, and Related S...   NaN   \n",
       "\n",
       "                                                 LABEL SCORECARD? Y/N SOURCE  \\\n",
       "297  Computer and Information Sciences and Support ...            NaN  IPEDS   \n",
       "327  Business, Management, Marketing, and Related S...            NaN  IPEDS   \n",
       "\n",
       "    NOTES  \n",
       "297   NaN  \n",
       "327   NaN  "
      ]
     },
     "execution_count": 69,
     "metadata": {},
     "output_type": "execute_result"
    }
   ],
   "source": [
    "# Here you need to manually explore the data dictionary again to learn which  \n",
    "# variables represent the information you want.\n",
    "# seems like we can narrow down to schools awarding degrees in these 2 variables:\n",
    "datadict[(datadict['VARIABLE NAME'] == 'PCIP52') | (datadict['VARIABLE NAME'] == 'PCIP11')]"
   ]
  },
  {
   "cell_type": "code",
   "execution_count": 70,
   "metadata": {},
   "outputs": [
    {
     "name": "stdout",
     "output_type": "stream",
     "text": [
      "fulldf shape: (219, 1792)\n",
      "fulldf shape: (88, 1792)\n"
     ]
    }
   ],
   "source": [
    "print 'fulldf shape:', fulldf.shape\n",
    "fulldf = fulldf[(fulldf.CS_PCIP11 > 0) | (fulldf.CS_PCIP52 > 0)]\n",
    "print 'fulldf shape:', fulldf.shape\n",
    "# now we're down to 88 schools"
   ]
  },
  {
   "cell_type": "markdown",
   "metadata": {
    "collapsed": true
   },
   "source": [
    "Next, let's remove the schools in the cities with the highest crime"
   ]
  },
  {
   "cell_type": "code",
   "execution_count": 71,
   "metadata": {},
   "outputs": [
    {
     "data": {
      "text/plain": [
       "['FBI_Agency',\n",
       " 'FBI_State',\n",
       " 'FBI_2007',\n",
       " 'FBI_2008',\n",
       " 'FBI_2009',\n",
       " 'FBI_2010',\n",
       " 'FBI_2011',\n",
       " 'FBI_2012']"
      ]
     },
     "execution_count": 71,
     "metadata": {},
     "output_type": "execute_result"
    }
   ],
   "source": [
    "# This list comprehension command with search through all the 1792 columns in fulldf\n",
    "# and return a list of those that start with FBI_\n",
    "fbi_cols = [fulldf.columns[i] for i, j in enumerate(fulldf.columns.str.startswith('FBI_')) if j]\n",
    "fbi_cols"
   ]
  },
  {
   "cell_type": "code",
   "execution_count": 72,
   "metadata": {},
   "outputs": [
    {
     "name": "stdout",
     "output_type": "stream",
     "text": [
      "(44, 1793)\n",
      "denver           12\n",
      "austin           12\n",
      "san francisco     7\n",
      "miami             7\n",
      "san jose          6\n",
      "Name: City, dtype: int64\n"
     ]
    }
   ],
   "source": [
    "# Let's use the FBI_2012 data because it's the most recent.\n",
    "# Let's find percentile ranks (and keep the safest 50%\n",
    "# of the remaining 7 cities. (This is an arbitrary decision --\n",
    "# we also could take the safest cities prior to filtering on\n",
    "# the other criteria. But, it seems a reasonable compromise\n",
    "# to go about it this way.\n",
    "fulldf['FBI_percentile'] = [percentileofscore(fulldf.FBI_2012, i, 'rank') for i in fulldf.FBI_2012]\n",
    "fulldf = fulldf[fulldf.FBI_percentile <= 50]\n",
    "print fulldf.shape\n",
    "print fulldf.City.value_counts()"
   ]
  },
  {
   "cell_type": "markdown",
   "metadata": {},
   "source": [
    "OK!! Now we've met all of Maria's criteria.\n",
    "-- We have 44 schools from relatively safe, metropolitan areas that\n",
    "are high on Kauffman's startup index and offer degrees in IT\n",
    "\n",
    "-- Finally, let's create a ranking. Let's just add the Kauffman\n",
    "rank and the crime rating. Schools with the lowest score will be \n",
    "ranked higher."
   ]
  },
  {
   "cell_type": "code",
   "execution_count": 79,
   "metadata": {},
   "outputs": [],
   "source": [
    "fulldf['FinalRank'] = fulldf.KAU_Rank2015 + (fulldf.FBI_percentile * 0.01)\n",
    "fulldf['FinalRank'] = fulldf.FinalRank.astype(int)"
   ]
  },
  {
   "cell_type": "code",
   "execution_count": 80,
   "metadata": {},
   "outputs": [
    {
     "data": {
      "text/html": [
       "<div>\n",
       "<table border=\"1\" class=\"dataframe\">\n",
       "  <thead>\n",
       "    <tr style=\"text-align: right;\">\n",
       "      <th></th>\n",
       "      <th>FinalRank</th>\n",
       "      <th>City</th>\n",
       "      <th>CS_INSTNM</th>\n",
       "    </tr>\n",
       "  </thead>\n",
       "  <tbody>\n",
       "    <tr>\n",
       "      <th>2181</th>\n",
       "      <td>1</td>\n",
       "      <td>austin</td>\n",
       "      <td>CyberTex Institute of Technology</td>\n",
       "    </tr>\n",
       "    <tr>\n",
       "      <th>2159</th>\n",
       "      <td>1</td>\n",
       "      <td>austin</td>\n",
       "      <td>Huston-Tillotson University</td>\n",
       "    </tr>\n",
       "    <tr>\n",
       "      <th>2160</th>\n",
       "      <td>1</td>\n",
       "      <td>austin</td>\n",
       "      <td>Southern Careers Institute-Austin</td>\n",
       "    </tr>\n",
       "    <tr>\n",
       "      <th>2158</th>\n",
       "      <td>1</td>\n",
       "      <td>austin</td>\n",
       "      <td>Concordia University-Texas</td>\n",
       "    </tr>\n",
       "    <tr>\n",
       "      <th>2161</th>\n",
       "      <td>1</td>\n",
       "      <td>austin</td>\n",
       "      <td>Saint Edward's University</td>\n",
       "    </tr>\n",
       "    <tr>\n",
       "      <th>2179</th>\n",
       "      <td>1</td>\n",
       "      <td>austin</td>\n",
       "      <td>Strayer University-Texas</td>\n",
       "    </tr>\n",
       "    <tr>\n",
       "      <th>2165</th>\n",
       "      <td>1</td>\n",
       "      <td>austin</td>\n",
       "      <td>ITT Technical Institute-Austin</td>\n",
       "    </tr>\n",
       "    <tr>\n",
       "      <th>2170</th>\n",
       "      <td>1</td>\n",
       "      <td>austin</td>\n",
       "      <td>Virginia College-Austin</td>\n",
       "    </tr>\n",
       "    <tr>\n",
       "      <th>2174</th>\n",
       "      <td>1</td>\n",
       "      <td>austin</td>\n",
       "      <td>The Art Institute of Austin</td>\n",
       "    </tr>\n",
       "    <tr>\n",
       "      <th>2175</th>\n",
       "      <td>1</td>\n",
       "      <td>austin</td>\n",
       "      <td>National American University-Austin</td>\n",
       "    </tr>\n",
       "    <tr>\n",
       "      <th>2162</th>\n",
       "      <td>1</td>\n",
       "      <td>austin</td>\n",
       "      <td>The University of Texas at Austin</td>\n",
       "    </tr>\n",
       "    <tr>\n",
       "      <th>2155</th>\n",
       "      <td>1</td>\n",
       "      <td>austin</td>\n",
       "      <td>Austin Community College District</td>\n",
       "    </tr>\n",
       "    <tr>\n",
       "      <th>1002</th>\n",
       "      <td>2</td>\n",
       "      <td>miami</td>\n",
       "      <td>New Professions Technical Institute</td>\n",
       "    </tr>\n",
       "    <tr>\n",
       "      <th>1008</th>\n",
       "      <td>2</td>\n",
       "      <td>miami</td>\n",
       "      <td>M-DCPS The English Center</td>\n",
       "    </tr>\n",
       "    <tr>\n",
       "      <th>1010</th>\n",
       "      <td>2</td>\n",
       "      <td>miami</td>\n",
       "      <td>South Florida Institute of Technology</td>\n",
       "    </tr>\n",
       "    <tr>\n",
       "      <th>1014</th>\n",
       "      <td>2</td>\n",
       "      <td>miami</td>\n",
       "      <td>Management Resources Institute</td>\n",
       "    </tr>\n",
       "    <tr>\n",
       "      <th>1019</th>\n",
       "      <td>2</td>\n",
       "      <td>miami</td>\n",
       "      <td>Future-Tech Institute</td>\n",
       "    </tr>\n",
       "    <tr>\n",
       "      <th>987</th>\n",
       "      <td>2</td>\n",
       "      <td>miami</td>\n",
       "      <td>AI Miami International University of Art and D...</td>\n",
       "    </tr>\n",
       "    <tr>\n",
       "      <th>989</th>\n",
       "      <td>2</td>\n",
       "      <td>miami</td>\n",
       "      <td>Miami Dade College</td>\n",
       "    </tr>\n",
       "    <tr>\n",
       "      <th>539</th>\n",
       "      <td>3</td>\n",
       "      <td>san jose</td>\n",
       "      <td>San Jose State University</td>\n",
       "    </tr>\n",
       "    <tr>\n",
       "      <th>538</th>\n",
       "      <td>3</td>\n",
       "      <td>san jose</td>\n",
       "      <td>San Jose City College</td>\n",
       "    </tr>\n",
       "    <tr>\n",
       "      <th>537</th>\n",
       "      <td>3</td>\n",
       "      <td>san jose</td>\n",
       "      <td>Evergreen Valley College</td>\n",
       "    </tr>\n",
       "    <tr>\n",
       "      <th>536</th>\n",
       "      <td>3</td>\n",
       "      <td>san jose</td>\n",
       "      <td>Cogswell College</td>\n",
       "    </tr>\n",
       "    <tr>\n",
       "      <th>535</th>\n",
       "      <td>3</td>\n",
       "      <td>san jose</td>\n",
       "      <td>CET-Sobrato</td>\n",
       "    </tr>\n",
       "    <tr>\n",
       "      <th>540</th>\n",
       "      <td>3</td>\n",
       "      <td>san jose</td>\n",
       "      <td>Carrington College California-San Jose</td>\n",
       "    </tr>\n",
       "    <tr>\n",
       "      <th>708</th>\n",
       "      <td>5</td>\n",
       "      <td>denver</td>\n",
       "      <td>Regis University</td>\n",
       "    </tr>\n",
       "    <tr>\n",
       "      <th>714</th>\n",
       "      <td>5</td>\n",
       "      <td>denver</td>\n",
       "      <td>Johnson &amp; Wales University-Denver</td>\n",
       "    </tr>\n",
       "    <tr>\n",
       "      <th>697</th>\n",
       "      <td>5</td>\n",
       "      <td>denver</td>\n",
       "      <td>University of Colorado Denver</td>\n",
       "    </tr>\n",
       "    <tr>\n",
       "      <th>715</th>\n",
       "      <td>5</td>\n",
       "      <td>denver</td>\n",
       "      <td>Argosy University-Denver</td>\n",
       "    </tr>\n",
       "    <tr>\n",
       "      <th>699</th>\n",
       "      <td>5</td>\n",
       "      <td>denver</td>\n",
       "      <td>College America-Denver</td>\n",
       "    </tr>\n",
       "    <tr>\n",
       "      <th>700</th>\n",
       "      <td>5</td>\n",
       "      <td>denver</td>\n",
       "      <td>Community College of Denver</td>\n",
       "    </tr>\n",
       "    <tr>\n",
       "      <th>698</th>\n",
       "      <td>5</td>\n",
       "      <td>denver</td>\n",
       "      <td>The Art Institute of Colorado</td>\n",
       "    </tr>\n",
       "    <tr>\n",
       "      <th>704</th>\n",
       "      <td>5</td>\n",
       "      <td>denver</td>\n",
       "      <td>Emily Griffith Technical College</td>\n",
       "    </tr>\n",
       "    <tr>\n",
       "      <th>706</th>\n",
       "      <td>5</td>\n",
       "      <td>denver</td>\n",
       "      <td>Metropolitan State University of Denver</td>\n",
       "    </tr>\n",
       "    <tr>\n",
       "      <th>707</th>\n",
       "      <td>5</td>\n",
       "      <td>denver</td>\n",
       "      <td>National American University-Denver</td>\n",
       "    </tr>\n",
       "    <tr>\n",
       "      <th>710</th>\n",
       "      <td>5</td>\n",
       "      <td>denver</td>\n",
       "      <td>Colorado Heights University</td>\n",
       "    </tr>\n",
       "    <tr>\n",
       "      <th>703</th>\n",
       "      <td>5</td>\n",
       "      <td>denver</td>\n",
       "      <td>University of Denver</td>\n",
       "    </tr>\n",
       "    <tr>\n",
       "      <th>270</th>\n",
       "      <td>6</td>\n",
       "      <td>san francisco</td>\n",
       "      <td>University of San Francisco</td>\n",
       "    </tr>\n",
       "    <tr>\n",
       "      <th>269</th>\n",
       "      <td>6</td>\n",
       "      <td>san francisco</td>\n",
       "      <td>San Francisco State University</td>\n",
       "    </tr>\n",
       "    <tr>\n",
       "      <th>265</th>\n",
       "      <td>6</td>\n",
       "      <td>san francisco</td>\n",
       "      <td>The Art Institute of California-Argosy Univers...</td>\n",
       "    </tr>\n",
       "    <tr>\n",
       "      <th>264</th>\n",
       "      <td>6</td>\n",
       "      <td>san francisco</td>\n",
       "      <td>Golden Gate University-San Francisco</td>\n",
       "    </tr>\n",
       "    <tr>\n",
       "      <th>263</th>\n",
       "      <td>6</td>\n",
       "      <td>san francisco</td>\n",
       "      <td>Fashion Institute of Design &amp; Merchandising-Sa...</td>\n",
       "    </tr>\n",
       "    <tr>\n",
       "      <th>262</th>\n",
       "      <td>6</td>\n",
       "      <td>san francisco</td>\n",
       "      <td>City College of San Francisco</td>\n",
       "    </tr>\n",
       "    <tr>\n",
       "      <th>256</th>\n",
       "      <td>6</td>\n",
       "      <td>san francisco</td>\n",
       "      <td>Academy of Art University</td>\n",
       "    </tr>\n",
       "  </tbody>\n",
       "</table>\n",
       "</div>"
      ],
      "text/plain": [
       "      FinalRank           City  \\\n",
       "2181          1         austin   \n",
       "2159          1         austin   \n",
       "2160          1         austin   \n",
       "2158          1         austin   \n",
       "2161          1         austin   \n",
       "2179          1         austin   \n",
       "2165          1         austin   \n",
       "2170          1         austin   \n",
       "2174          1         austin   \n",
       "2175          1         austin   \n",
       "2162          1         austin   \n",
       "2155          1         austin   \n",
       "1002          2          miami   \n",
       "1008          2          miami   \n",
       "1010          2          miami   \n",
       "1014          2          miami   \n",
       "1019          2          miami   \n",
       "987           2          miami   \n",
       "989           2          miami   \n",
       "539           3       san jose   \n",
       "538           3       san jose   \n",
       "537           3       san jose   \n",
       "536           3       san jose   \n",
       "535           3       san jose   \n",
       "540           3       san jose   \n",
       "708           5         denver   \n",
       "714           5         denver   \n",
       "697           5         denver   \n",
       "715           5         denver   \n",
       "699           5         denver   \n",
       "700           5         denver   \n",
       "698           5         denver   \n",
       "704           5         denver   \n",
       "706           5         denver   \n",
       "707           5         denver   \n",
       "710           5         denver   \n",
       "703           5         denver   \n",
       "270           6  san francisco   \n",
       "269           6  san francisco   \n",
       "265           6  san francisco   \n",
       "264           6  san francisco   \n",
       "263           6  san francisco   \n",
       "262           6  san francisco   \n",
       "256           6  san francisco   \n",
       "\n",
       "                                              CS_INSTNM  \n",
       "2181                   CyberTex Institute of Technology  \n",
       "2159                        Huston-Tillotson University  \n",
       "2160                  Southern Careers Institute-Austin  \n",
       "2158                         Concordia University-Texas  \n",
       "2161                          Saint Edward's University  \n",
       "2179                           Strayer University-Texas  \n",
       "2165                     ITT Technical Institute-Austin  \n",
       "2170                            Virginia College-Austin  \n",
       "2174                        The Art Institute of Austin  \n",
       "2175                National American University-Austin  \n",
       "2162                  The University of Texas at Austin  \n",
       "2155                  Austin Community College District  \n",
       "1002                New Professions Technical Institute  \n",
       "1008                          M-DCPS The English Center  \n",
       "1010              South Florida Institute of Technology  \n",
       "1014                     Management Resources Institute  \n",
       "1019                              Future-Tech Institute  \n",
       "987   AI Miami International University of Art and D...  \n",
       "989                                  Miami Dade College  \n",
       "539                           San Jose State University  \n",
       "538                               San Jose City College  \n",
       "537                            Evergreen Valley College  \n",
       "536                                    Cogswell College  \n",
       "535                                         CET-Sobrato  \n",
       "540              Carrington College California-San Jose  \n",
       "708                                    Regis University  \n",
       "714                   Johnson & Wales University-Denver  \n",
       "697                       University of Colorado Denver  \n",
       "715                            Argosy University-Denver  \n",
       "699                              College America-Denver  \n",
       "700                         Community College of Denver  \n",
       "698                       The Art Institute of Colorado  \n",
       "704                    Emily Griffith Technical College  \n",
       "706             Metropolitan State University of Denver  \n",
       "707                 National American University-Denver  \n",
       "710                         Colorado Heights University  \n",
       "703                                University of Denver  \n",
       "270                         University of San Francisco  \n",
       "269                      San Francisco State University  \n",
       "265   The Art Institute of California-Argosy Univers...  \n",
       "264                Golden Gate University-San Francisco  \n",
       "263   Fashion Institute of Design & Merchandising-Sa...  \n",
       "262                       City College of San Francisco  \n",
       "256                           Academy of Art University  "
      ]
     },
     "execution_count": 80,
     "metadata": {},
     "output_type": "execute_result"
    }
   ],
   "source": [
    "fulldf[['FinalRank', 'City', 'CS_INSTNM']].sort_values(by='FinalRank')"
   ]
  },
  {
   "cell_type": "markdown",
   "metadata": {},
   "source": [
    "## We did it!!\n",
    "\n",
    "Maria now has a list of schools that she can use to narrow down the search for the perfect place for her to get her degree!! Hooray for data wrangling!"
   ]
  },
  {
   "cell_type": "code",
   "execution_count": null,
   "metadata": {
    "collapsed": true
   },
   "outputs": [],
   "source": []
  }
 ],
 "metadata": {
  "kernelspec": {
   "display_name": "Python 3",
   "language": "python",
   "name": "python3"
  },
  "language_info": {
   "codemirror_mode": {
    "name": "ipython",
    "version": 3
   },
   "file_extension": ".py",
   "mimetype": "text/x-python",
   "name": "python",
   "nbconvert_exporter": "python",
   "pygments_lexer": "ipython3",
   "version": "3.7.6"
  },
  "toc": {
   "colors": {
    "hover_highlight": "#DAA520",
    "navigate_num": "#000000",
    "navigate_text": "#333333",
    "running_highlight": "#FF0000",
    "selected_highlight": "#FFD700",
    "sidebar_border": "#EEEEEE",
    "wrapper_background": "#FFFFFF"
   },
   "moveMenuLeft": true,
   "nav_menu": {
    "height": "316px",
    "width": "252px"
   },
   "navigate_menu": true,
   "number_sections": true,
   "sideBar": true,
   "threshold": 4,
   "toc_cell": false,
   "toc_section_display": "block",
   "toc_window_display": false,
   "widenNotebook": false
  },
  "varInspector": {
   "cols": {
    "lenName": 16,
    "lenType": 16,
    "lenVar": 40
   },
   "kernels_config": {
    "python": {
     "delete_cmd_postfix": "",
     "delete_cmd_prefix": "del ",
     "library": "var_list.py",
     "varRefreshCmd": "print(var_dic_list())"
    },
    "r": {
     "delete_cmd_postfix": ") ",
     "delete_cmd_prefix": "rm(",
     "library": "var_list.r",
     "varRefreshCmd": "cat(var_dic_list()) "
    }
   },
   "types_to_exclude": [
    "module",
    "function",
    "builtin_function_or_method",
    "instance",
    "_Feature"
   ],
   "window_display": false
  }
 },
 "nbformat": 4,
 "nbformat_minor": 1
}
